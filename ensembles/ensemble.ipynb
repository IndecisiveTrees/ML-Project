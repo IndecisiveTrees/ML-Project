{
 "cells": [
  {
   "cell_type": "markdown",
   "metadata": {},
   "source": [
    "# ML Assignment 2 - Canadian Hospital Re-admittance Challenge\n",
    "\n",
    "*Harsh Kumar - IMT2021016* |\n",
    "*Subhajeet Lahiri - IMT2021022* |\n",
    "*Sai Madhavan G - IMT2021101*\n",
    "\n",
    "This file contains our attempts at training non-neural ensemble models.\n",
    "\n",
    "The data used in this file has been preprocessed using the same methods as for assignment 1. The code can be found in `preprocessing.py`"
   ]
  },
  {
   "cell_type": "markdown",
   "metadata": {},
   "source": [
    "## Methodology\n",
    "\n",
    "We use implementations of models from various paradigms of ensembling\n",
    "\n",
    "### Bagging\n",
    "\n",
    "- [RandomForestClassifier](https://scikit-learn.org/stable/modules/generated/sklearn.ensemble.RandomForestClassifier.html#sklearn.ensemble.RandomForestClassifier)\n",
    "- [ExtraTreesClassifier](https://scikit-learn.org/stable/modules/generated/sklearn.ensemble.ExtraTreesClassifier.html#sklearn.ensemble.ExtraTreesClassifier)\n",
    "\n",
    "### Boosting\n",
    "\n",
    "- [XGBoostClassifier](https://xgboost.readthedocs.io/en/stable/python/python_api.html)\n",
    "- [LightGBMClassifier](https://lightgbm.readthedocs.io/en/stable/pythonapi/lightgbm.LGBMClassifier.html#lightgbm.LGBMClassifier)\n",
    "- [LGBM dart variant](https://lightgbm.readthedocs.io/en/stable/pythonapi/lightgbm.LGBMClassifier.html#lightgbm.LGBMClassifier)\n",
    "- [CatBoostClassifier](https://catboost.ai/en/docs/concepts/python-reference_catboostclassifier)\n",
    "- [HistGradientBoostClassifier](https://scikit-learn.org/stable/modules/generated/sklearn.ensemble.HistGradientBoostingClassifier.html#sklearn.ensemble.HistGradientBoostingClassifier)\n",
    "\n",
    "### Voting\n",
    "\n",
    "- [VotingClassifier](https://scikit-learn.org/stable/modules/generated/sklearn.ensemble.VotingClassifier.html#sklearn.ensemble.VotingClassifier)\n",
    "\n",
    "\n",
    "We first look at performance of each model by calculating it's cross validation score.\n",
    "\n",
    "We then compare it's performance on kaggle leaderboard\n",
    "\n",
    "We use the softmax of the kaggle results as weights for training a voting classifier using 'soft' voting."
   ]
  },
  {
   "cell_type": "markdown",
   "metadata": {},
   "source": [
    "## Results (kaggle leaderboard)\n",
    "\n",
    "- rf: 72.7%\n",
    "- et: 71.5%\n",
    "- xgb: 73.2%\n",
    "- lgb: 73.5%\n",
    "- dart: 73.1%\n",
    "- cb: 73.0%\n",
    "- hgb: 73.0%\n",
    "- voting: 73.5%"
   ]
  },
  {
   "cell_type": "markdown",
   "metadata": {},
   "source": [
    "## Code"
   ]
  },
  {
   "cell_type": "code",
   "execution_count": 41,
   "metadata": {},
   "outputs": [],
   "source": [
    "import numpy as np\n",
    "import pandas as pd\n",
    "import matplotlib.pyplot as plt\n",
    "import seaborn as sns\n",
    "\n",
    "from sklearn.model_selection import StratifiedKFold\n",
    "from sklearn.metrics import f1_score\n",
    "from sklearn.base import clone\n",
    "from sklearn.ensemble import RandomForestClassifier, ExtraTreesClassifier\n",
    "from sklearn.ensemble import HistGradientBoostingClassifier\n",
    "from sklearn.ensemble import VotingClassifier\n",
    "from xgboost import XGBClassifier\n",
    "from lightgbm import LGBMClassifier\n",
    "from catboost import CatBoostClassifier\n",
    "\n",
    "from preprocessing import *"
   ]
  },
  {
   "cell_type": "code",
   "execution_count": 3,
   "metadata": {},
   "outputs": [],
   "source": [
    "seed = 17"
   ]
  },
  {
   "cell_type": "markdown",
   "metadata": {},
   "source": [
    "Loading the preprocessed data (Refer to `preprocessing.py` for exact steps)"
   ]
  },
  {
   "cell_type": "code",
   "execution_count": 4,
   "metadata": {},
   "outputs": [],
   "source": [
    "data, test_data = load_data(\"../data/\")\n",
    "X, y, x, enc_ids, cat_feat = preprocessing_and_fe(data, test_data)"
   ]
  },
  {
   "cell_type": "code",
   "execution_count": 5,
   "metadata": {},
   "outputs": [],
   "source": [
    "true_indices = [index for index, value in enumerate(cat_feat) if value]"
   ]
  },
  {
   "cell_type": "code",
   "execution_count": 6,
   "metadata": {},
   "outputs": [],
   "source": [
    "cat_cols = X.columns[cat_feat]\n",
    "X[cat_cols] = X[cat_cols].astype('int')"
   ]
  },
  {
   "cell_type": "code",
   "execution_count": 7,
   "metadata": {},
   "outputs": [],
   "source": [
    "cat_cols = x.columns[cat_feat]\n",
    "x[cat_cols] = x[cat_cols].astype('int')"
   ]
  },
  {
   "cell_type": "code",
   "execution_count": 8,
   "metadata": {},
   "outputs": [],
   "source": [
    "splits = 5\n",
    "skf = StratifiedKFold(n_splits = splits, random_state = seed, shuffle = True)\n",
    "np.random.seed(seed)"
   ]
  },
  {
   "cell_type": "code",
   "execution_count": 17,
   "metadata": {},
   "outputs": [],
   "source": [
    "def cross_val_score(estimator, cv = skf, label = '', include_original = False):\n",
    "    \n",
    "    #initiate prediction arrays and score lists\n",
    "    val_predictions = np.zeros((len(X)))\n",
    "    #train_predictions = np.zeros((len(sample)))\n",
    "    train_scores, val_scores = [], []\n",
    "    \n",
    "    #training model, predicting prognosis probability, and evaluating metrics\n",
    "    for fold, (train_idx, val_idx) in enumerate(cv.split(X, y)):\n",
    "        \n",
    "        model = clone(estimator)\n",
    "        \n",
    "        #define train set\n",
    "        X_train = X.iloc[train_idx].reset_index(drop = True)\n",
    "        y_train = y.iloc[train_idx].reset_index(drop = True)\n",
    "        \n",
    "        #define validation set\n",
    "        X_val = X.iloc[val_idx].reset_index(drop = True)\n",
    "        y_val = y.iloc[val_idx].reset_index(drop = True)\n",
    "        \n",
    "        #train model\n",
    "        model.fit(X_train, y_train)\n",
    "        \n",
    "        #make predictions\n",
    "        train_preds = model.predict(X_train)\n",
    "        val_preds = model.predict(X_val)\n",
    "        val_preds = val_preds.reshape((-1,))\n",
    "        val_predictions[val_idx] += val_preds\n",
    "        \n",
    "        #evaluate model for a fold\n",
    "        train_score = f1_score(y_train, train_preds, average='macro')\n",
    "        val_score = f1_score(y_val, val_preds, average='macro')\n",
    "        \n",
    "        #append model score for a fold to list\n",
    "        train_scores.append(train_score)\n",
    "        val_scores.append(val_score)\n",
    "    \n",
    "    print(f'Val Score: {np.mean(val_scores):.5f} ± {np.std(val_scores):.5f} | Train Score: {np.mean(train_scores):.5f} ± {np.std(train_scores):.5f} | {label}')\n",
    "    model = clone(estimator)\n",
    "    model.fit(X, y)\n",
    "    \n",
    "    return val_scores, val_predictions, model"
   ]
  },
  {
   "cell_type": "code",
   "execution_count": 18,
   "metadata": {},
   "outputs": [
    {
     "name": "stdout",
     "output_type": "stream",
     "text": [
      "Val Score: 0.53357 ± 0.00308 | Train Score: 0.99999 ± 0.00001 | rf\n",
      "Val Score: 0.52252 ± 0.00253 | Train Score: 1.00000 ± 0.00000 | et\n",
      "Val Score: 0.55455 ± 0.00287 | Train Score: 0.68135 ± 0.00322 | xgb\n",
      "Val Score: 0.54462 ± 0.00414 | Train Score: 0.59089 ± 0.00144 | lgb\n",
      "Val Score: 0.52247 ± 0.00382 | Train Score: 0.53642 ± 0.00262 | dart\n",
      "Val Score: 0.55826 ± 0.00308 | Train Score: 0.64903 ± 0.00283 | cb\n",
      "Val Score: 0.54925 ± 0.00361 | Train Score: 0.63662 ± 0.00901 | hgb\n"
     ]
    }
   ],
   "source": [
    "score_list, oof_list = pd.DataFrame(), pd.DataFrame()\n",
    "trained_models = {}\n",
    "\n",
    "models = [\n",
    "    ('rf', RandomForestClassifier(random_state = seed)),\n",
    "    ('et', ExtraTreesClassifier(random_state = seed)),\n",
    "    ('xgb', XGBClassifier(random_state = seed)),\n",
    "    ('lgb', LGBMClassifier(random_state = seed, verbose=0)),\n",
    "    ('dart', LGBMClassifier(random_state = seed, boosting_type = 'dart', verbose=0)),\n",
    "    ('cb', CatBoostClassifier(random_state = seed, verbose=0, cat_features=true_indices, task_type='GPU', devices='0')),\n",
    "    ('hgb', HistGradientBoostingClassifier(random_state = seed, categorical_features=cat_feat)),\n",
    "]\n",
    "\n",
    "for (label, model) in models:\n",
    "    score_list[label], oof_list[label], trained_models[label] = cross_val_score(\n",
    "        model,\n",
    "        label = label,\n",
    "        include_original = True\n",
    "    )"
   ]
  },
  {
   "cell_type": "code",
   "execution_count": 23,
   "metadata": {},
   "outputs": [],
   "source": [
    "predictions = [(model, trained_models[model].predict(x)) for model in trained_models]"
   ]
  },
  {
   "cell_type": "code",
   "execution_count": 24,
   "metadata": {},
   "outputs": [
    {
     "data": {
      "text/plain": [
       "[('rf', array([2, 2, 1, ..., 1, 1, 1], dtype=int64)),\n",
       " ('et', array([2, 2, 1, ..., 1, 1, 1], dtype=int64)),\n",
       " ('xgb', array([1, 2, 1, ..., 1, 1, 1], dtype=int64)),\n",
       " ('lgb', array([1, 2, 1, ..., 1, 1, 1], dtype=int64)),\n",
       " ('dart', array([1, 2, 1, ..., 1, 1, 1], dtype=int64)),\n",
       " ('cb',\n",
       "  array([[1],\n",
       "         [2],\n",
       "         [1],\n",
       "         ...,\n",
       "         [1],\n",
       "         [1],\n",
       "         [1]], dtype=int64)),\n",
       " ('hgb', array([1, 2, 1, ..., 1, 1, 1], dtype=int64))]"
      ]
     },
     "execution_count": 24,
     "metadata": {},
     "output_type": "execute_result"
    }
   ],
   "source": [
    "predictions"
   ]
  },
  {
   "cell_type": "code",
   "execution_count": 25,
   "metadata": {},
   "outputs": [],
   "source": [
    "def gen_submission(label, prediction):\n",
    "    submission_df = pd.DataFrame()\n",
    "    submission_df['enc_id'] = enc_ids\n",
    "    submission_df['readmission_id'] = prediction.reshape(-1).astype('float')\n",
    "    submission_df.to_csv(f\"{label}.csv\", index=False)"
   ]
  },
  {
   "cell_type": "code",
   "execution_count": 26,
   "metadata": {},
   "outputs": [],
   "source": [
    "for prediction in predictions:\n",
    "    gen_submission(*prediction)"
   ]
  },
  {
   "cell_type": "code",
   "execution_count": 31,
   "metadata": {},
   "outputs": [
    {
     "data": {
      "text/plain": [
       "dict_keys(['rf', 'et', 'xgb', 'lgb', 'dart', 'cb', 'hgb'])"
      ]
     },
     "execution_count": 31,
     "metadata": {},
     "output_type": "execute_result"
    }
   ],
   "source": [
    "trained_models.keys()"
   ]
  },
  {
   "cell_type": "code",
   "execution_count": 32,
   "metadata": {},
   "outputs": [],
   "source": [
    "weights = [72.7, 71.5, 73.2, 73.5, 73.1, 73, 73]"
   ]
  },
  {
   "cell_type": "code",
   "execution_count": 34,
   "metadata": {},
   "outputs": [],
   "source": [
    "def softmax(x):\n",
    "    \"\"\"Compute softmax values for each sets of scores in x.\"\"\"\n",
    "    return np.exp(x) / np.sum(np.exp(x), axis=0)"
   ]
  },
  {
   "cell_type": "code",
   "execution_count": 35,
   "metadata": {},
   "outputs": [
    {
     "data": {
      "text/plain": [
       "array([0.10675778, 0.03215483, 0.17601382, 0.23759381, 0.15926389,\n",
       "       0.14410793, 0.14410793])"
      ]
     },
     "execution_count": 35,
     "metadata": {},
     "output_type": "execute_result"
    }
   ],
   "source": [
    "softmax(weights)"
   ]
  },
  {
   "cell_type": "code",
   "execution_count": 36,
   "metadata": {},
   "outputs": [],
   "source": [
    "weights = softmax(weights)"
   ]
  },
  {
   "cell_type": "code",
   "execution_count": 37,
   "metadata": {},
   "outputs": [
    {
     "data": {
      "text/html": [
       "<style>#sk-container-id-3 {color: black;background-color: white;}#sk-container-id-3 pre{padding: 0;}#sk-container-id-3 div.sk-toggleable {background-color: white;}#sk-container-id-3 label.sk-toggleable__label {cursor: pointer;display: block;width: 100%;margin-bottom: 0;padding: 0.3em;box-sizing: border-box;text-align: center;}#sk-container-id-3 label.sk-toggleable__label-arrow:before {content: \"▸\";float: left;margin-right: 0.25em;color: #696969;}#sk-container-id-3 label.sk-toggleable__label-arrow:hover:before {color: black;}#sk-container-id-3 div.sk-estimator:hover label.sk-toggleable__label-arrow:before {color: black;}#sk-container-id-3 div.sk-toggleable__content {max-height: 0;max-width: 0;overflow: hidden;text-align: left;background-color: #f0f8ff;}#sk-container-id-3 div.sk-toggleable__content pre {margin: 0.2em;color: black;border-radius: 0.25em;background-color: #f0f8ff;}#sk-container-id-3 input.sk-toggleable__control:checked~div.sk-toggleable__content {max-height: 200px;max-width: 100%;overflow: auto;}#sk-container-id-3 input.sk-toggleable__control:checked~label.sk-toggleable__label-arrow:before {content: \"▾\";}#sk-container-id-3 div.sk-estimator input.sk-toggleable__control:checked~label.sk-toggleable__label {background-color: #d4ebff;}#sk-container-id-3 div.sk-label input.sk-toggleable__control:checked~label.sk-toggleable__label {background-color: #d4ebff;}#sk-container-id-3 input.sk-hidden--visually {border: 0;clip: rect(1px 1px 1px 1px);clip: rect(1px, 1px, 1px, 1px);height: 1px;margin: -1px;overflow: hidden;padding: 0;position: absolute;width: 1px;}#sk-container-id-3 div.sk-estimator {font-family: monospace;background-color: #f0f8ff;border: 1px dotted black;border-radius: 0.25em;box-sizing: border-box;margin-bottom: 0.5em;}#sk-container-id-3 div.sk-estimator:hover {background-color: #d4ebff;}#sk-container-id-3 div.sk-parallel-item::after {content: \"\";width: 100%;border-bottom: 1px solid gray;flex-grow: 1;}#sk-container-id-3 div.sk-label:hover label.sk-toggleable__label {background-color: #d4ebff;}#sk-container-id-3 div.sk-serial::before {content: \"\";position: absolute;border-left: 1px solid gray;box-sizing: border-box;top: 0;bottom: 0;left: 50%;z-index: 0;}#sk-container-id-3 div.sk-serial {display: flex;flex-direction: column;align-items: center;background-color: white;padding-right: 0.2em;padding-left: 0.2em;position: relative;}#sk-container-id-3 div.sk-item {position: relative;z-index: 1;}#sk-container-id-3 div.sk-parallel {display: flex;align-items: stretch;justify-content: center;background-color: white;position: relative;}#sk-container-id-3 div.sk-item::before, #sk-container-id-3 div.sk-parallel-item::before {content: \"\";position: absolute;border-left: 1px solid gray;box-sizing: border-box;top: 0;bottom: 0;left: 50%;z-index: -1;}#sk-container-id-3 div.sk-parallel-item {display: flex;flex-direction: column;z-index: 1;position: relative;background-color: white;}#sk-container-id-3 div.sk-parallel-item:first-child::after {align-self: flex-end;width: 50%;}#sk-container-id-3 div.sk-parallel-item:last-child::after {align-self: flex-start;width: 50%;}#sk-container-id-3 div.sk-parallel-item:only-child::after {width: 0;}#sk-container-id-3 div.sk-dashed-wrapped {border: 1px dashed gray;margin: 0 0.4em 0.5em 0.4em;box-sizing: border-box;padding-bottom: 0.4em;background-color: white;}#sk-container-id-3 div.sk-label label {font-family: monospace;font-weight: bold;display: inline-block;line-height: 1.2em;}#sk-container-id-3 div.sk-label-container {text-align: center;}#sk-container-id-3 div.sk-container {/* jupyter's `normalize.less` sets `[hidden] { display: none; }` but bootstrap.min.css set `[hidden] { display: none !important; }` so we also need the `!important` here to be able to override the default hidden behavior on the sphinx rendered scikit-learn.org. See: https://github.com/scikit-learn/scikit-learn/issues/21755 */display: inline-block !important;position: relative;}#sk-container-id-3 div.sk-text-repr-fallback {display: none;}</style><div id=\"sk-container-id-3\" class=\"sk-top-container\"><div class=\"sk-text-repr-fallback\"><pre>VotingClassifier(estimators=[(&#x27;rf&#x27;, RandomForestClassifier(random_state=17)),\n",
       "                             (&#x27;et&#x27;, ExtraTreesClassifier(random_state=17)),\n",
       "                             (&#x27;xgb&#x27;,\n",
       "                              XGBClassifier(base_score=None, booster=None,\n",
       "                                            callbacks=None,\n",
       "                                            colsample_bylevel=None,\n",
       "                                            colsample_bynode=None,\n",
       "                                            colsample_bytree=None,\n",
       "                                            early_stopping_rounds=None,\n",
       "                                            enable_categorical=False,\n",
       "                                            eval_metric=None,\n",
       "                                            feature_types=None, gamma=Non...\n",
       "                              &lt;catboost.core.CatBoostClassifier object at 0x0000026E07C88310&gt;),\n",
       "                             (&#x27;hgb&#x27;,\n",
       "                              HistGradientBoostingClassifier(categorical_features=[False,\n",
       "                                                                                   False,\n",
       "                                                                                   True,\n",
       "                                                                                   True,\n",
       "                                                                                   True,\n",
       "                                                                                   True,\n",
       "                                                                                   True,\n",
       "                                                                                   True,\n",
       "                                                                                   False,\n",
       "                                                                                   True,\n",
       "                                                                                   True,\n",
       "                                                                                   False,\n",
       "                                                                                   False,\n",
       "                                                                                   False,\n",
       "                                                                                   False,\n",
       "                                                                                   False,\n",
       "                                                                                   False,\n",
       "                                                                                   True,\n",
       "                                                                                   True,\n",
       "                                                                                   True,\n",
       "                                                                                   False,\n",
       "                                                                                   True,\n",
       "                                                                                   True,\n",
       "                                                                                   False,\n",
       "                                                                                   False,\n",
       "                                                                                   False,\n",
       "                                                                                   False],\n",
       "                                                             random_state=17))],\n",
       "                 voting=&#x27;soft&#x27;,\n",
       "                 weights=array([0.10675778, 0.03215483, 0.17601382, 0.23759381, 0.15926389,\n",
       "       0.14410793, 0.14410793]))</pre><b>In a Jupyter environment, please rerun this cell to show the HTML representation or trust the notebook. <br />On GitHub, the HTML representation is unable to render, please try loading this page with nbviewer.org.</b></div><div class=\"sk-container\" hidden><div class=\"sk-item sk-dashed-wrapped\"><div class=\"sk-label-container\"><div class=\"sk-label sk-toggleable\"><input class=\"sk-toggleable__control sk-hidden--visually\" id=\"sk-estimator-id-10\" type=\"checkbox\" ><label for=\"sk-estimator-id-10\" class=\"sk-toggleable__label sk-toggleable__label-arrow\">VotingClassifier</label><div class=\"sk-toggleable__content\"><pre>VotingClassifier(estimators=[(&#x27;rf&#x27;, RandomForestClassifier(random_state=17)),\n",
       "                             (&#x27;et&#x27;, ExtraTreesClassifier(random_state=17)),\n",
       "                             (&#x27;xgb&#x27;,\n",
       "                              XGBClassifier(base_score=None, booster=None,\n",
       "                                            callbacks=None,\n",
       "                                            colsample_bylevel=None,\n",
       "                                            colsample_bynode=None,\n",
       "                                            colsample_bytree=None,\n",
       "                                            early_stopping_rounds=None,\n",
       "                                            enable_categorical=False,\n",
       "                                            eval_metric=None,\n",
       "                                            feature_types=None, gamma=Non...\n",
       "                              &lt;catboost.core.CatBoostClassifier object at 0x0000026E07C88310&gt;),\n",
       "                             (&#x27;hgb&#x27;,\n",
       "                              HistGradientBoostingClassifier(categorical_features=[False,\n",
       "                                                                                   False,\n",
       "                                                                                   True,\n",
       "                                                                                   True,\n",
       "                                                                                   True,\n",
       "                                                                                   True,\n",
       "                                                                                   True,\n",
       "                                                                                   True,\n",
       "                                                                                   False,\n",
       "                                                                                   True,\n",
       "                                                                                   True,\n",
       "                                                                                   False,\n",
       "                                                                                   False,\n",
       "                                                                                   False,\n",
       "                                                                                   False,\n",
       "                                                                                   False,\n",
       "                                                                                   False,\n",
       "                                                                                   True,\n",
       "                                                                                   True,\n",
       "                                                                                   True,\n",
       "                                                                                   False,\n",
       "                                                                                   True,\n",
       "                                                                                   True,\n",
       "                                                                                   False,\n",
       "                                                                                   False,\n",
       "                                                                                   False,\n",
       "                                                                                   False],\n",
       "                                                             random_state=17))],\n",
       "                 voting=&#x27;soft&#x27;,\n",
       "                 weights=array([0.10675778, 0.03215483, 0.17601382, 0.23759381, 0.15926389,\n",
       "       0.14410793, 0.14410793]))</pre></div></div></div><div class=\"sk-parallel\"><div class=\"sk-parallel-item\"><div class=\"sk-item\"><div class=\"sk-label-container\"><div class=\"sk-label sk-toggleable\"><label>rf</label></div></div><div class=\"sk-serial\"><div class=\"sk-item\"><div class=\"sk-estimator sk-toggleable\"><input class=\"sk-toggleable__control sk-hidden--visually\" id=\"sk-estimator-id-11\" type=\"checkbox\" ><label for=\"sk-estimator-id-11\" class=\"sk-toggleable__label sk-toggleable__label-arrow\">RandomForestClassifier</label><div class=\"sk-toggleable__content\"><pre>RandomForestClassifier(random_state=17)</pre></div></div></div></div></div></div><div class=\"sk-parallel-item\"><div class=\"sk-item\"><div class=\"sk-label-container\"><div class=\"sk-label sk-toggleable\"><label>et</label></div></div><div class=\"sk-serial\"><div class=\"sk-item\"><div class=\"sk-estimator sk-toggleable\"><input class=\"sk-toggleable__control sk-hidden--visually\" id=\"sk-estimator-id-12\" type=\"checkbox\" ><label for=\"sk-estimator-id-12\" class=\"sk-toggleable__label sk-toggleable__label-arrow\">ExtraTreesClassifier</label><div class=\"sk-toggleable__content\"><pre>ExtraTreesClassifier(random_state=17)</pre></div></div></div></div></div></div><div class=\"sk-parallel-item\"><div class=\"sk-item\"><div class=\"sk-label-container\"><div class=\"sk-label sk-toggleable\"><label>xgb</label></div></div><div class=\"sk-serial\"><div class=\"sk-item\"><div class=\"sk-estimator sk-toggleable\"><input class=\"sk-toggleable__control sk-hidden--visually\" id=\"sk-estimator-id-13\" type=\"checkbox\" ><label for=\"sk-estimator-id-13\" class=\"sk-toggleable__label sk-toggleable__label-arrow\">XGBClassifier</label><div class=\"sk-toggleable__content\"><pre>XGBClassifier(base_score=None, booster=None, callbacks=None,\n",
       "              colsample_bylevel=None, colsample_bynode=None,\n",
       "              colsample_bytree=None, early_stopping_rounds=None,\n",
       "              enable_categorical=False, eval_metric=None, feature_types=None,\n",
       "              gamma=None, gpu_id=None, grow_policy=None, importance_type=None,\n",
       "              interaction_constraints=None, learning_rate=None, max_bin=None,\n",
       "              max_cat_threshold=None, max_cat_to_onehot=None,\n",
       "              max_delta_step=None, max_depth=None, max_leaves=None,\n",
       "              min_child_weight=None, missing=nan, monotone_constraints=None,\n",
       "              n_estimators=100, n_jobs=None, num_parallel_tree=None,\n",
       "              predictor=None, random_state=17, ...)</pre></div></div></div></div></div></div><div class=\"sk-parallel-item\"><div class=\"sk-item\"><div class=\"sk-label-container\"><div class=\"sk-label sk-toggleable\"><label>lgb</label></div></div><div class=\"sk-serial\"><div class=\"sk-item\"><div class=\"sk-estimator sk-toggleable\"><input class=\"sk-toggleable__control sk-hidden--visually\" id=\"sk-estimator-id-14\" type=\"checkbox\" ><label for=\"sk-estimator-id-14\" class=\"sk-toggleable__label sk-toggleable__label-arrow\">LGBMClassifier</label><div class=\"sk-toggleable__content\"><pre>LGBMClassifier(random_state=17, verbose=0)</pre></div></div></div></div></div></div><div class=\"sk-parallel-item\"><div class=\"sk-item\"><div class=\"sk-label-container\"><div class=\"sk-label sk-toggleable\"><label>dart</label></div></div><div class=\"sk-serial\"><div class=\"sk-item\"><div class=\"sk-estimator sk-toggleable\"><input class=\"sk-toggleable__control sk-hidden--visually\" id=\"sk-estimator-id-15\" type=\"checkbox\" ><label for=\"sk-estimator-id-15\" class=\"sk-toggleable__label sk-toggleable__label-arrow\">LGBMClassifier</label><div class=\"sk-toggleable__content\"><pre>LGBMClassifier(boosting_type=&#x27;dart&#x27;, random_state=17, verbose=0)</pre></div></div></div></div></div></div><div class=\"sk-parallel-item\"><div class=\"sk-item\"><div class=\"sk-label-container\"><div class=\"sk-label sk-toggleable\"><label>cb</label></div></div><div class=\"sk-serial\"><div class=\"sk-item\"><div class=\"sk-estimator sk-toggleable\"><input class=\"sk-toggleable__control sk-hidden--visually\" id=\"sk-estimator-id-16\" type=\"checkbox\" ><label for=\"sk-estimator-id-16\" class=\"sk-toggleable__label sk-toggleable__label-arrow\">CatBoostClassifier</label><div class=\"sk-toggleable__content\"><pre>&lt;catboost.core.CatBoostClassifier object at 0x0000026E07C88310&gt;</pre></div></div></div></div></div></div><div class=\"sk-parallel-item\"><div class=\"sk-item\"><div class=\"sk-label-container\"><div class=\"sk-label sk-toggleable\"><label>hgb</label></div></div><div class=\"sk-serial\"><div class=\"sk-item\"><div class=\"sk-estimator sk-toggleable\"><input class=\"sk-toggleable__control sk-hidden--visually\" id=\"sk-estimator-id-17\" type=\"checkbox\" ><label for=\"sk-estimator-id-17\" class=\"sk-toggleable__label sk-toggleable__label-arrow\">HistGradientBoostingClassifier</label><div class=\"sk-toggleable__content\"><pre>HistGradientBoostingClassifier(categorical_features=[False, False, True, True,\n",
       "                                                     True, True, True, True,\n",
       "                                                     False, True, True, False,\n",
       "                                                     False, False, False, False,\n",
       "                                                     False, True, True, True,\n",
       "                                                     False, True, True, False,\n",
       "                                                     False, False, False],\n",
       "                               random_state=17)</pre></div></div></div></div></div></div></div></div></div></div>"
      ],
      "text/plain": [
       "VotingClassifier(estimators=[('rf', RandomForestClassifier(random_state=17)),\n",
       "                             ('et', ExtraTreesClassifier(random_state=17)),\n",
       "                             ('xgb',\n",
       "                              XGBClassifier(base_score=None, booster=None,\n",
       "                                            callbacks=None,\n",
       "                                            colsample_bylevel=None,\n",
       "                                            colsample_bynode=None,\n",
       "                                            colsample_bytree=None,\n",
       "                                            early_stopping_rounds=None,\n",
       "                                            enable_categorical=False,\n",
       "                                            eval_metric=None,\n",
       "                                            feature_types=None, gamma=Non...\n",
       "                              <catboost.core.CatBoostClassifier object at 0x0000026E07C88310>),\n",
       "                             ('hgb',\n",
       "                              HistGradientBoostingClassifier(categorical_features=[False,\n",
       "                                                                                   False,\n",
       "                                                                                   True,\n",
       "                                                                                   True,\n",
       "                                                                                   True,\n",
       "                                                                                   True,\n",
       "                                                                                   True,\n",
       "                                                                                   True,\n",
       "                                                                                   False,\n",
       "                                                                                   True,\n",
       "                                                                                   True,\n",
       "                                                                                   False,\n",
       "                                                                                   False,\n",
       "                                                                                   False,\n",
       "                                                                                   False,\n",
       "                                                                                   False,\n",
       "                                                                                   False,\n",
       "                                                                                   True,\n",
       "                                                                                   True,\n",
       "                                                                                   True,\n",
       "                                                                                   False,\n",
       "                                                                                   True,\n",
       "                                                                                   True,\n",
       "                                                                                   False,\n",
       "                                                                                   False,\n",
       "                                                                                   False,\n",
       "                                                                                   False],\n",
       "                                                             random_state=17))],\n",
       "                 voting='soft',\n",
       "                 weights=array([0.10675778, 0.03215483, 0.17601382, 0.23759381, 0.15926389,\n",
       "       0.14410793, 0.14410793]))"
      ]
     },
     "execution_count": 37,
     "metadata": {},
     "output_type": "execute_result"
    }
   ],
   "source": [
    "model = VotingClassifier(models, weights=weights, voting = 'soft')\n",
    "model.fit(X, y)"
   ]
  },
  {
   "cell_type": "code",
   "execution_count": 38,
   "metadata": {},
   "outputs": [],
   "source": [
    "res = model.predict(x)"
   ]
  },
  {
   "cell_type": "code",
   "execution_count": 39,
   "metadata": {},
   "outputs": [
    {
     "data": {
      "text/plain": [
       "array([1, 2, 1, ..., 1, 1, 1], dtype=int64)"
      ]
     },
     "execution_count": 39,
     "metadata": {},
     "output_type": "execute_result"
    }
   ],
   "source": [
    "res"
   ]
  },
  {
   "cell_type": "code",
   "execution_count": 40,
   "metadata": {},
   "outputs": [],
   "source": [
    "gen_submission('voting', res)"
   ]
  }
 ],
 "metadata": {
  "kernelspec": {
   "display_name": "Python 3",
   "language": "python",
   "name": "python3"
  },
  "language_info": {
   "codemirror_mode": {
    "name": "ipython",
    "version": 3
   },
   "file_extension": ".py",
   "mimetype": "text/x-python",
   "name": "python",
   "nbconvert_exporter": "python",
   "pygments_lexer": "ipython3",
   "version": "3.11.5"
  }
 },
 "nbformat": 4,
 "nbformat_minor": 2
}
