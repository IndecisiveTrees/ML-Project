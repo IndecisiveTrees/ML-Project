{
 "cells": [
  {
   "cell_type": "code",
   "execution_count": 1,
   "metadata": {},
   "outputs": [],
   "source": [
    "from preprocessing import *\n",
    "from imblearn.under_sampling import OneSidedSelection\n",
    "from sklearn.preprocessing import OneHotEncoder"
   ]
  },
  {
   "cell_type": "code",
   "execution_count": 11,
   "metadata": {},
   "outputs": [],
   "source": [
    "seed = 17"
   ]
  },
  {
   "cell_type": "code",
   "execution_count": 2,
   "metadata": {},
   "outputs": [],
   "source": [
    "data, test_data = load_data(\"../data/\")"
   ]
  },
  {
   "cell_type": "code",
   "execution_count": 3,
   "metadata": {},
   "outputs": [],
   "source": [
    "X, y, x, enc_ids, cat_feat = preprocessing_and_fe(data, test_data)"
   ]
  },
  {
   "cell_type": "code",
   "execution_count": 6,
   "metadata": {},
   "outputs": [],
   "source": [
    "combined_df = pd.concat([X, x], axis= 0)"
   ]
  },
  {
   "cell_type": "code",
   "execution_count": 7,
   "metadata": {},
   "outputs": [
    {
     "data": {
      "text/html": [
       "<div>\n",
       "<style scoped>\n",
       "    .dataframe tbody tr th:only-of-type {\n",
       "        vertical-align: middle;\n",
       "    }\n",
       "\n",
       "    .dataframe tbody tr th {\n",
       "        vertical-align: top;\n",
       "    }\n",
       "\n",
       "    .dataframe thead th {\n",
       "        text-align: right;\n",
       "    }\n",
       "</style>\n",
       "<table border=\"1\" class=\"dataframe\">\n",
       "  <thead>\n",
       "    <tr style=\"text-align: right;\">\n",
       "      <th></th>\n",
       "      <th>enc_id</th>\n",
       "      <th>patient_id</th>\n",
       "      <th>race</th>\n",
       "      <th>gender</th>\n",
       "      <th>age</th>\n",
       "      <th>admission_type_id</th>\n",
       "      <th>discharge_disposition_id</th>\n",
       "      <th>admission_source_id</th>\n",
       "      <th>time_in_hospital</th>\n",
       "      <th>payer_code</th>\n",
       "      <th>...</th>\n",
       "      <th>diag_1</th>\n",
       "      <th>diag_2</th>\n",
       "      <th>diag_3</th>\n",
       "      <th>number_diagnoses</th>\n",
       "      <th>change</th>\n",
       "      <th>diabetesMed</th>\n",
       "      <th>drug_up</th>\n",
       "      <th>drug_down</th>\n",
       "      <th>drug_steady</th>\n",
       "      <th>pat_cnt</th>\n",
       "    </tr>\n",
       "  </thead>\n",
       "  <tbody>\n",
       "    <tr>\n",
       "      <th>0</th>\n",
       "      <td>-0.748025</td>\n",
       "      <td>2488608.0</td>\n",
       "      <td>2.0</td>\n",
       "      <td>1.0</td>\n",
       "      <td>6.0</td>\n",
       "      <td>1.0</td>\n",
       "      <td>2.0</td>\n",
       "      <td>6.0</td>\n",
       "      <td>3.0</td>\n",
       "      <td>6.0</td>\n",
       "      <td>...</td>\n",
       "      <td>43.0</td>\n",
       "      <td>44.0</td>\n",
       "      <td>44.0</td>\n",
       "      <td>5.0</td>\n",
       "      <td>0.0</td>\n",
       "      <td>1.0</td>\n",
       "      <td>0.0</td>\n",
       "      <td>0.0</td>\n",
       "      <td>2.0</td>\n",
       "      <td>-0.514042</td>\n",
       "    </tr>\n",
       "    <tr>\n",
       "      <th>1</th>\n",
       "      <td>-0.712439</td>\n",
       "      <td>52133202.0</td>\n",
       "      <td>2.0</td>\n",
       "      <td>1.0</td>\n",
       "      <td>7.0</td>\n",
       "      <td>2.0</td>\n",
       "      <td>6.0</td>\n",
       "      <td>1.0</td>\n",
       "      <td>7.0</td>\n",
       "      <td>7.0</td>\n",
       "      <td>...</td>\n",
       "      <td>43.0</td>\n",
       "      <td>44.0</td>\n",
       "      <td>46.0</td>\n",
       "      <td>9.0</td>\n",
       "      <td>1.0</td>\n",
       "      <td>1.0</td>\n",
       "      <td>0.0</td>\n",
       "      <td>0.0</td>\n",
       "      <td>1.0</td>\n",
       "      <td>-0.105474</td>\n",
       "    </tr>\n",
       "    <tr>\n",
       "      <th>2</th>\n",
       "      <td>0.041350</td>\n",
       "      <td>40945509.0</td>\n",
       "      <td>2.0</td>\n",
       "      <td>0.0</td>\n",
       "      <td>7.0</td>\n",
       "      <td>3.0</td>\n",
       "      <td>2.0</td>\n",
       "      <td>1.0</td>\n",
       "      <td>7.0</td>\n",
       "      <td>14.0</td>\n",
       "      <td>...</td>\n",
       "      <td>54.0</td>\n",
       "      <td>53.0</td>\n",
       "      <td>106.0</td>\n",
       "      <td>9.0</td>\n",
       "      <td>0.0</td>\n",
       "      <td>1.0</td>\n",
       "      <td>1.0</td>\n",
       "      <td>0.0</td>\n",
       "      <td>0.0</td>\n",
       "      <td>2.345931</td>\n",
       "    </tr>\n",
       "    <tr>\n",
       "      <th>3</th>\n",
       "      <td>1.049637</td>\n",
       "      <td>38850777.0</td>\n",
       "      <td>2.0</td>\n",
       "      <td>0.0</td>\n",
       "      <td>5.0</td>\n",
       "      <td>1.0</td>\n",
       "      <td>1.0</td>\n",
       "      <td>7.0</td>\n",
       "      <td>1.0</td>\n",
       "      <td>8.0</td>\n",
       "      <td>...</td>\n",
       "      <td>63.0</td>\n",
       "      <td>62.0</td>\n",
       "      <td>26.0</td>\n",
       "      <td>8.0</td>\n",
       "      <td>1.0</td>\n",
       "      <td>1.0</td>\n",
       "      <td>0.0</td>\n",
       "      <td>0.0</td>\n",
       "      <td>1.0</td>\n",
       "      <td>-0.514042</td>\n",
       "    </tr>\n",
       "    <tr>\n",
       "      <th>4</th>\n",
       "      <td>-0.141917</td>\n",
       "      <td>72738225.0</td>\n",
       "      <td>2.0</td>\n",
       "      <td>0.0</td>\n",
       "      <td>8.0</td>\n",
       "      <td>1.0</td>\n",
       "      <td>6.0</td>\n",
       "      <td>7.0</td>\n",
       "      <td>6.0</td>\n",
       "      <td>7.0</td>\n",
       "      <td>...</td>\n",
       "      <td>25.0</td>\n",
       "      <td>75.0</td>\n",
       "      <td>75.0</td>\n",
       "      <td>9.0</td>\n",
       "      <td>0.0</td>\n",
       "      <td>1.0</td>\n",
       "      <td>0.0</td>\n",
       "      <td>1.0</td>\n",
       "      <td>0.0</td>\n",
       "      <td>-0.514042</td>\n",
       "    </tr>\n",
       "    <tr>\n",
       "      <th>...</th>\n",
       "      <td>...</td>\n",
       "      <td>...</td>\n",
       "      <td>...</td>\n",
       "      <td>...</td>\n",
       "      <td>...</td>\n",
       "      <td>...</td>\n",
       "      <td>...</td>\n",
       "      <td>...</td>\n",
       "      <td>...</td>\n",
       "      <td>...</td>\n",
       "      <td>...</td>\n",
       "      <td>...</td>\n",
       "      <td>...</td>\n",
       "      <td>...</td>\n",
       "      <td>...</td>\n",
       "      <td>...</td>\n",
       "      <td>...</td>\n",
       "      <td>...</td>\n",
       "      <td>...</td>\n",
       "      <td>...</td>\n",
       "      <td>...</td>\n",
       "    </tr>\n",
       "    <tr>\n",
       "      <th>30525</th>\n",
       "      <td>0.042499</td>\n",
       "      <td>23401863.0</td>\n",
       "      <td>0.0</td>\n",
       "      <td>0.0</td>\n",
       "      <td>7.0</td>\n",
       "      <td>1.0</td>\n",
       "      <td>6.0</td>\n",
       "      <td>7.0</td>\n",
       "      <td>2.0</td>\n",
       "      <td>7.0</td>\n",
       "      <td>...</td>\n",
       "      <td>42.0</td>\n",
       "      <td>9.0</td>\n",
       "      <td>46.0</td>\n",
       "      <td>5.0</td>\n",
       "      <td>1.0</td>\n",
       "      <td>1.0</td>\n",
       "      <td>0.0</td>\n",
       "      <td>0.0</td>\n",
       "      <td>1.0</td>\n",
       "      <td>0.303093</td>\n",
       "    </tr>\n",
       "    <tr>\n",
       "      <th>30526</th>\n",
       "      <td>-1.239109</td>\n",
       "      <td>12267054.0</td>\n",
       "      <td>2.0</td>\n",
       "      <td>1.0</td>\n",
       "      <td>5.0</td>\n",
       "      <td>3.0</td>\n",
       "      <td>18.0</td>\n",
       "      <td>4.0</td>\n",
       "      <td>2.0</td>\n",
       "      <td>17.0</td>\n",
       "      <td>...</td>\n",
       "      <td>43.0</td>\n",
       "      <td>42.0</td>\n",
       "      <td>26.0</td>\n",
       "      <td>8.0</td>\n",
       "      <td>1.0</td>\n",
       "      <td>0.0</td>\n",
       "      <td>0.0</td>\n",
       "      <td>0.0</td>\n",
       "      <td>0.0</td>\n",
       "      <td>-0.514042</td>\n",
       "    </tr>\n",
       "    <tr>\n",
       "      <th>30527</th>\n",
       "      <td>0.755734</td>\n",
       "      <td>98403552.0</td>\n",
       "      <td>2.0</td>\n",
       "      <td>0.0</td>\n",
       "      <td>7.0</td>\n",
       "      <td>1.0</td>\n",
       "      <td>3.0</td>\n",
       "      <td>7.0</td>\n",
       "      <td>5.0</td>\n",
       "      <td>7.0</td>\n",
       "      <td>...</td>\n",
       "      <td>54.0</td>\n",
       "      <td>44.0</td>\n",
       "      <td>52.0</td>\n",
       "      <td>9.0</td>\n",
       "      <td>0.0</td>\n",
       "      <td>1.0</td>\n",
       "      <td>1.0</td>\n",
       "      <td>0.0</td>\n",
       "      <td>0.0</td>\n",
       "      <td>0.711661</td>\n",
       "    </tr>\n",
       "    <tr>\n",
       "      <th>30528</th>\n",
       "      <td>0.379860</td>\n",
       "      <td>87646410.0</td>\n",
       "      <td>2.0</td>\n",
       "      <td>0.0</td>\n",
       "      <td>8.0</td>\n",
       "      <td>1.0</td>\n",
       "      <td>3.0</td>\n",
       "      <td>7.0</td>\n",
       "      <td>2.0</td>\n",
       "      <td>7.0</td>\n",
       "      <td>...</td>\n",
       "      <td>81.0</td>\n",
       "      <td>51.0</td>\n",
       "      <td>46.0</td>\n",
       "      <td>9.0</td>\n",
       "      <td>0.0</td>\n",
       "      <td>1.0</td>\n",
       "      <td>0.0</td>\n",
       "      <td>0.0</td>\n",
       "      <td>2.0</td>\n",
       "      <td>0.711661</td>\n",
       "    </tr>\n",
       "    <tr>\n",
       "      <th>30529</th>\n",
       "      <td>1.203262</td>\n",
       "      <td>45794169.0</td>\n",
       "      <td>2.0</td>\n",
       "      <td>1.0</td>\n",
       "      <td>7.0</td>\n",
       "      <td>1.0</td>\n",
       "      <td>1.0</td>\n",
       "      <td>7.0</td>\n",
       "      <td>6.0</td>\n",
       "      <td>7.0</td>\n",
       "      <td>...</td>\n",
       "      <td>45.0</td>\n",
       "      <td>42.0</td>\n",
       "      <td>44.0</td>\n",
       "      <td>9.0</td>\n",
       "      <td>1.0</td>\n",
       "      <td>1.0</td>\n",
       "      <td>0.0</td>\n",
       "      <td>0.0</td>\n",
       "      <td>1.0</td>\n",
       "      <td>-0.105474</td>\n",
       "    </tr>\n",
       "  </tbody>\n",
       "</table>\n",
       "<p>101766 rows × 27 columns</p>\n",
       "</div>"
      ],
      "text/plain": [
       "         enc_id  patient_id  race  gender  age  admission_type_id  \\\n",
       "0     -0.748025   2488608.0   2.0     1.0  6.0                1.0   \n",
       "1     -0.712439  52133202.0   2.0     1.0  7.0                2.0   \n",
       "2      0.041350  40945509.0   2.0     0.0  7.0                3.0   \n",
       "3      1.049637  38850777.0   2.0     0.0  5.0                1.0   \n",
       "4     -0.141917  72738225.0   2.0     0.0  8.0                1.0   \n",
       "...         ...         ...   ...     ...  ...                ...   \n",
       "30525  0.042499  23401863.0   0.0     0.0  7.0                1.0   \n",
       "30526 -1.239109  12267054.0   2.0     1.0  5.0                3.0   \n",
       "30527  0.755734  98403552.0   2.0     0.0  7.0                1.0   \n",
       "30528  0.379860  87646410.0   2.0     0.0  8.0                1.0   \n",
       "30529  1.203262  45794169.0   2.0     1.0  7.0                1.0   \n",
       "\n",
       "       discharge_disposition_id  admission_source_id  time_in_hospital  \\\n",
       "0                           2.0                  6.0               3.0   \n",
       "1                           6.0                  1.0               7.0   \n",
       "2                           2.0                  1.0               7.0   \n",
       "3                           1.0                  7.0               1.0   \n",
       "4                           6.0                  7.0               6.0   \n",
       "...                         ...                  ...               ...   \n",
       "30525                       6.0                  7.0               2.0   \n",
       "30526                      18.0                  4.0               2.0   \n",
       "30527                       3.0                  7.0               5.0   \n",
       "30528                       3.0                  7.0               2.0   \n",
       "30529                       1.0                  7.0               6.0   \n",
       "\n",
       "       payer_code  ...  diag_1  diag_2  diag_3  number_diagnoses  change  \\\n",
       "0             6.0  ...    43.0    44.0    44.0               5.0     0.0   \n",
       "1             7.0  ...    43.0    44.0    46.0               9.0     1.0   \n",
       "2            14.0  ...    54.0    53.0   106.0               9.0     0.0   \n",
       "3             8.0  ...    63.0    62.0    26.0               8.0     1.0   \n",
       "4             7.0  ...    25.0    75.0    75.0               9.0     0.0   \n",
       "...           ...  ...     ...     ...     ...               ...     ...   \n",
       "30525         7.0  ...    42.0     9.0    46.0               5.0     1.0   \n",
       "30526        17.0  ...    43.0    42.0    26.0               8.0     1.0   \n",
       "30527         7.0  ...    54.0    44.0    52.0               9.0     0.0   \n",
       "30528         7.0  ...    81.0    51.0    46.0               9.0     0.0   \n",
       "30529         7.0  ...    45.0    42.0    44.0               9.0     1.0   \n",
       "\n",
       "       diabetesMed  drug_up  drug_down  drug_steady   pat_cnt  \n",
       "0              1.0      0.0        0.0          2.0 -0.514042  \n",
       "1              1.0      0.0        0.0          1.0 -0.105474  \n",
       "2              1.0      1.0        0.0          0.0  2.345931  \n",
       "3              1.0      0.0        0.0          1.0 -0.514042  \n",
       "4              1.0      0.0        1.0          0.0 -0.514042  \n",
       "...            ...      ...        ...          ...       ...  \n",
       "30525          1.0      0.0        0.0          1.0  0.303093  \n",
       "30526          0.0      0.0        0.0          0.0 -0.514042  \n",
       "30527          1.0      1.0        0.0          0.0  0.711661  \n",
       "30528          1.0      0.0        0.0          2.0  0.711661  \n",
       "30529          1.0      0.0        0.0          1.0 -0.105474  \n",
       "\n",
       "[101766 rows x 27 columns]"
      ]
     },
     "execution_count": 7,
     "metadata": {},
     "output_type": "execute_result"
    }
   ],
   "source": [
    "combined_df"
   ]
  },
  {
   "cell_type": "code",
   "execution_count": 8,
   "metadata": {},
   "outputs": [],
   "source": [
    "cat_columns = ['race', 'gender', 'admission_type_id',\n",
    "       'discharge_disposition_id', 'admission_source_id', 'payer_code', 'medical_specialty', 'diabetesMed']"
   ]
  },
  {
   "cell_type": "code",
   "execution_count": 9,
   "metadata": {},
   "outputs": [],
   "source": [
    "combined_df_encoded = pd.get_dummies(combined_df, columns=cat_columns)"
   ]
  },
  {
   "cell_type": "code",
   "execution_count": 10,
   "metadata": {},
   "outputs": [
    {
     "data": {
      "text/html": [
       "<div>\n",
       "<style scoped>\n",
       "    .dataframe tbody tr th:only-of-type {\n",
       "        vertical-align: middle;\n",
       "    }\n",
       "\n",
       "    .dataframe tbody tr th {\n",
       "        vertical-align: top;\n",
       "    }\n",
       "\n",
       "    .dataframe thead th {\n",
       "        text-align: right;\n",
       "    }\n",
       "</style>\n",
       "<table border=\"1\" class=\"dataframe\">\n",
       "  <thead>\n",
       "    <tr style=\"text-align: right;\">\n",
       "      <th></th>\n",
       "      <th>enc_id</th>\n",
       "      <th>patient_id</th>\n",
       "      <th>age</th>\n",
       "      <th>time_in_hospital</th>\n",
       "      <th>num_lab_procedures</th>\n",
       "      <th>num_procedures</th>\n",
       "      <th>num_medications</th>\n",
       "      <th>number_outpatient</th>\n",
       "      <th>number_emergency</th>\n",
       "      <th>number_inpatient</th>\n",
       "      <th>...</th>\n",
       "      <th>medical_specialty_61.0</th>\n",
       "      <th>medical_specialty_62.0</th>\n",
       "      <th>medical_specialty_63.0</th>\n",
       "      <th>medical_specialty_64.0</th>\n",
       "      <th>medical_specialty_65.0</th>\n",
       "      <th>medical_specialty_66.0</th>\n",
       "      <th>medical_specialty_67.0</th>\n",
       "      <th>medical_specialty_68.0</th>\n",
       "      <th>diabetesMed_0.0</th>\n",
       "      <th>diabetesMed_1.0</th>\n",
       "    </tr>\n",
       "  </thead>\n",
       "  <tbody>\n",
       "    <tr>\n",
       "      <th>0</th>\n",
       "      <td>-0.748025</td>\n",
       "      <td>2488608.0</td>\n",
       "      <td>6.0</td>\n",
       "      <td>3.0</td>\n",
       "      <td>54.0</td>\n",
       "      <td>3.0</td>\n",
       "      <td>10.0</td>\n",
       "      <td>0.0</td>\n",
       "      <td>0.0</td>\n",
       "      <td>0.0</td>\n",
       "      <td>...</td>\n",
       "      <td>False</td>\n",
       "      <td>False</td>\n",
       "      <td>False</td>\n",
       "      <td>False</td>\n",
       "      <td>False</td>\n",
       "      <td>False</td>\n",
       "      <td>False</td>\n",
       "      <td>False</td>\n",
       "      <td>False</td>\n",
       "      <td>True</td>\n",
       "    </tr>\n",
       "    <tr>\n",
       "      <th>1</th>\n",
       "      <td>-0.712439</td>\n",
       "      <td>52133202.0</td>\n",
       "      <td>7.0</td>\n",
       "      <td>7.0</td>\n",
       "      <td>50.0</td>\n",
       "      <td>6.0</td>\n",
       "      <td>35.0</td>\n",
       "      <td>2.0</td>\n",
       "      <td>1.0</td>\n",
       "      <td>0.0</td>\n",
       "      <td>...</td>\n",
       "      <td>False</td>\n",
       "      <td>False</td>\n",
       "      <td>False</td>\n",
       "      <td>False</td>\n",
       "      <td>False</td>\n",
       "      <td>False</td>\n",
       "      <td>False</td>\n",
       "      <td>True</td>\n",
       "      <td>False</td>\n",
       "      <td>True</td>\n",
       "    </tr>\n",
       "    <tr>\n",
       "      <th>2</th>\n",
       "      <td>0.041350</td>\n",
       "      <td>40945509.0</td>\n",
       "      <td>7.0</td>\n",
       "      <td>7.0</td>\n",
       "      <td>49.0</td>\n",
       "      <td>4.0</td>\n",
       "      <td>20.0</td>\n",
       "      <td>2.0</td>\n",
       "      <td>0.0</td>\n",
       "      <td>4.0</td>\n",
       "      <td>...</td>\n",
       "      <td>False</td>\n",
       "      <td>False</td>\n",
       "      <td>False</td>\n",
       "      <td>False</td>\n",
       "      <td>False</td>\n",
       "      <td>False</td>\n",
       "      <td>False</td>\n",
       "      <td>True</td>\n",
       "      <td>False</td>\n",
       "      <td>True</td>\n",
       "    </tr>\n",
       "    <tr>\n",
       "      <th>3</th>\n",
       "      <td>1.049637</td>\n",
       "      <td>38850777.0</td>\n",
       "      <td>5.0</td>\n",
       "      <td>1.0</td>\n",
       "      <td>1.0</td>\n",
       "      <td>1.0</td>\n",
       "      <td>15.0</td>\n",
       "      <td>0.0</td>\n",
       "      <td>0.0</td>\n",
       "      <td>0.0</td>\n",
       "      <td>...</td>\n",
       "      <td>False</td>\n",
       "      <td>False</td>\n",
       "      <td>False</td>\n",
       "      <td>False</td>\n",
       "      <td>False</td>\n",
       "      <td>False</td>\n",
       "      <td>False</td>\n",
       "      <td>True</td>\n",
       "      <td>False</td>\n",
       "      <td>True</td>\n",
       "    </tr>\n",
       "    <tr>\n",
       "      <th>4</th>\n",
       "      <td>-0.141917</td>\n",
       "      <td>72738225.0</td>\n",
       "      <td>8.0</td>\n",
       "      <td>6.0</td>\n",
       "      <td>58.0</td>\n",
       "      <td>2.0</td>\n",
       "      <td>26.0</td>\n",
       "      <td>1.0</td>\n",
       "      <td>0.0</td>\n",
       "      <td>0.0</td>\n",
       "      <td>...</td>\n",
       "      <td>False</td>\n",
       "      <td>False</td>\n",
       "      <td>False</td>\n",
       "      <td>False</td>\n",
       "      <td>False</td>\n",
       "      <td>False</td>\n",
       "      <td>False</td>\n",
       "      <td>True</td>\n",
       "      <td>False</td>\n",
       "      <td>True</td>\n",
       "    </tr>\n",
       "    <tr>\n",
       "      <th>...</th>\n",
       "      <td>...</td>\n",
       "      <td>...</td>\n",
       "      <td>...</td>\n",
       "      <td>...</td>\n",
       "      <td>...</td>\n",
       "      <td>...</td>\n",
       "      <td>...</td>\n",
       "      <td>...</td>\n",
       "      <td>...</td>\n",
       "      <td>...</td>\n",
       "      <td>...</td>\n",
       "      <td>...</td>\n",
       "      <td>...</td>\n",
       "      <td>...</td>\n",
       "      <td>...</td>\n",
       "      <td>...</td>\n",
       "      <td>...</td>\n",
       "      <td>...</td>\n",
       "      <td>...</td>\n",
       "      <td>...</td>\n",
       "      <td>...</td>\n",
       "    </tr>\n",
       "    <tr>\n",
       "      <th>30525</th>\n",
       "      <td>0.042499</td>\n",
       "      <td>23401863.0</td>\n",
       "      <td>7.0</td>\n",
       "      <td>2.0</td>\n",
       "      <td>44.0</td>\n",
       "      <td>0.0</td>\n",
       "      <td>19.0</td>\n",
       "      <td>0.0</td>\n",
       "      <td>2.0</td>\n",
       "      <td>0.0</td>\n",
       "      <td>...</td>\n",
       "      <td>False</td>\n",
       "      <td>False</td>\n",
       "      <td>False</td>\n",
       "      <td>False</td>\n",
       "      <td>False</td>\n",
       "      <td>False</td>\n",
       "      <td>False</td>\n",
       "      <td>False</td>\n",
       "      <td>False</td>\n",
       "      <td>True</td>\n",
       "    </tr>\n",
       "    <tr>\n",
       "      <th>30526</th>\n",
       "      <td>-1.239109</td>\n",
       "      <td>12267054.0</td>\n",
       "      <td>5.0</td>\n",
       "      <td>2.0</td>\n",
       "      <td>19.0</td>\n",
       "      <td>3.0</td>\n",
       "      <td>10.0</td>\n",
       "      <td>0.0</td>\n",
       "      <td>0.0</td>\n",
       "      <td>0.0</td>\n",
       "      <td>...</td>\n",
       "      <td>False</td>\n",
       "      <td>False</td>\n",
       "      <td>False</td>\n",
       "      <td>False</td>\n",
       "      <td>False</td>\n",
       "      <td>False</td>\n",
       "      <td>False</td>\n",
       "      <td>True</td>\n",
       "      <td>True</td>\n",
       "      <td>False</td>\n",
       "    </tr>\n",
       "    <tr>\n",
       "      <th>30527</th>\n",
       "      <td>0.755734</td>\n",
       "      <td>98403552.0</td>\n",
       "      <td>7.0</td>\n",
       "      <td>5.0</td>\n",
       "      <td>73.0</td>\n",
       "      <td>3.0</td>\n",
       "      <td>24.0</td>\n",
       "      <td>0.0</td>\n",
       "      <td>0.0</td>\n",
       "      <td>1.0</td>\n",
       "      <td>...</td>\n",
       "      <td>False</td>\n",
       "      <td>False</td>\n",
       "      <td>False</td>\n",
       "      <td>False</td>\n",
       "      <td>False</td>\n",
       "      <td>False</td>\n",
       "      <td>False</td>\n",
       "      <td>False</td>\n",
       "      <td>False</td>\n",
       "      <td>True</td>\n",
       "    </tr>\n",
       "    <tr>\n",
       "      <th>30528</th>\n",
       "      <td>0.379860</td>\n",
       "      <td>87646410.0</td>\n",
       "      <td>8.0</td>\n",
       "      <td>2.0</td>\n",
       "      <td>63.0</td>\n",
       "      <td>0.0</td>\n",
       "      <td>13.0</td>\n",
       "      <td>0.0</td>\n",
       "      <td>0.0</td>\n",
       "      <td>1.0</td>\n",
       "      <td>...</td>\n",
       "      <td>False</td>\n",
       "      <td>False</td>\n",
       "      <td>False</td>\n",
       "      <td>False</td>\n",
       "      <td>False</td>\n",
       "      <td>False</td>\n",
       "      <td>False</td>\n",
       "      <td>True</td>\n",
       "      <td>False</td>\n",
       "      <td>True</td>\n",
       "    </tr>\n",
       "    <tr>\n",
       "      <th>30529</th>\n",
       "      <td>1.203262</td>\n",
       "      <td>45794169.0</td>\n",
       "      <td>7.0</td>\n",
       "      <td>6.0</td>\n",
       "      <td>53.0</td>\n",
       "      <td>6.0</td>\n",
       "      <td>24.0</td>\n",
       "      <td>0.0</td>\n",
       "      <td>0.0</td>\n",
       "      <td>0.0</td>\n",
       "      <td>...</td>\n",
       "      <td>False</td>\n",
       "      <td>False</td>\n",
       "      <td>False</td>\n",
       "      <td>False</td>\n",
       "      <td>False</td>\n",
       "      <td>False</td>\n",
       "      <td>False</td>\n",
       "      <td>False</td>\n",
       "      <td>False</td>\n",
       "      <td>True</td>\n",
       "    </tr>\n",
       "  </tbody>\n",
       "</table>\n",
       "<p>101766 rows × 167 columns</p>\n",
       "</div>"
      ],
      "text/plain": [
       "         enc_id  patient_id  age  time_in_hospital  num_lab_procedures  \\\n",
       "0     -0.748025   2488608.0  6.0               3.0                54.0   \n",
       "1     -0.712439  52133202.0  7.0               7.0                50.0   \n",
       "2      0.041350  40945509.0  7.0               7.0                49.0   \n",
       "3      1.049637  38850777.0  5.0               1.0                 1.0   \n",
       "4     -0.141917  72738225.0  8.0               6.0                58.0   \n",
       "...         ...         ...  ...               ...                 ...   \n",
       "30525  0.042499  23401863.0  7.0               2.0                44.0   \n",
       "30526 -1.239109  12267054.0  5.0               2.0                19.0   \n",
       "30527  0.755734  98403552.0  7.0               5.0                73.0   \n",
       "30528  0.379860  87646410.0  8.0               2.0                63.0   \n",
       "30529  1.203262  45794169.0  7.0               6.0                53.0   \n",
       "\n",
       "       num_procedures  num_medications  number_outpatient  number_emergency  \\\n",
       "0                 3.0             10.0                0.0               0.0   \n",
       "1                 6.0             35.0                2.0               1.0   \n",
       "2                 4.0             20.0                2.0               0.0   \n",
       "3                 1.0             15.0                0.0               0.0   \n",
       "4                 2.0             26.0                1.0               0.0   \n",
       "...               ...              ...                ...               ...   \n",
       "30525             0.0             19.0                0.0               2.0   \n",
       "30526             3.0             10.0                0.0               0.0   \n",
       "30527             3.0             24.0                0.0               0.0   \n",
       "30528             0.0             13.0                0.0               0.0   \n",
       "30529             6.0             24.0                0.0               0.0   \n",
       "\n",
       "       number_inpatient  ...  medical_specialty_61.0  medical_specialty_62.0  \\\n",
       "0                   0.0  ...                   False                   False   \n",
       "1                   0.0  ...                   False                   False   \n",
       "2                   4.0  ...                   False                   False   \n",
       "3                   0.0  ...                   False                   False   \n",
       "4                   0.0  ...                   False                   False   \n",
       "...                 ...  ...                     ...                     ...   \n",
       "30525               0.0  ...                   False                   False   \n",
       "30526               0.0  ...                   False                   False   \n",
       "30527               1.0  ...                   False                   False   \n",
       "30528               1.0  ...                   False                   False   \n",
       "30529               0.0  ...                   False                   False   \n",
       "\n",
       "       medical_specialty_63.0  medical_specialty_64.0  medical_specialty_65.0  \\\n",
       "0                       False                   False                   False   \n",
       "1                       False                   False                   False   \n",
       "2                       False                   False                   False   \n",
       "3                       False                   False                   False   \n",
       "4                       False                   False                   False   \n",
       "...                       ...                     ...                     ...   \n",
       "30525                   False                   False                   False   \n",
       "30526                   False                   False                   False   \n",
       "30527                   False                   False                   False   \n",
       "30528                   False                   False                   False   \n",
       "30529                   False                   False                   False   \n",
       "\n",
       "       medical_specialty_66.0  medical_specialty_67.0  medical_specialty_68.0  \\\n",
       "0                       False                   False                   False   \n",
       "1                       False                   False                    True   \n",
       "2                       False                   False                    True   \n",
       "3                       False                   False                    True   \n",
       "4                       False                   False                    True   \n",
       "...                       ...                     ...                     ...   \n",
       "30525                   False                   False                   False   \n",
       "30526                   False                   False                    True   \n",
       "30527                   False                   False                   False   \n",
       "30528                   False                   False                    True   \n",
       "30529                   False                   False                   False   \n",
       "\n",
       "       diabetesMed_0.0  diabetesMed_1.0  \n",
       "0                False             True  \n",
       "1                False             True  \n",
       "2                False             True  \n",
       "3                False             True  \n",
       "4                False             True  \n",
       "...                ...              ...  \n",
       "30525            False             True  \n",
       "30526             True            False  \n",
       "30527            False             True  \n",
       "30528            False             True  \n",
       "30529            False             True  \n",
       "\n",
       "[101766 rows x 167 columns]"
      ]
     },
     "execution_count": 10,
     "metadata": {},
     "output_type": "execute_result"
    }
   ],
   "source": [
    "combined_df_encoded"
   ]
  },
  {
   "cell_type": "code",
   "execution_count": 12,
   "metadata": {},
   "outputs": [],
   "source": [
    "X = combined_df_encoded.iloc[:len(X)]"
   ]
  },
  {
   "cell_type": "code",
   "execution_count": 13,
   "metadata": {},
   "outputs": [],
   "source": [
    "quant_columns = ['enc_id', 'patient_id', 'age', 'time_in_hospital', 'num_lab_procedures',\n",
    "       'num_procedures', 'num_medications', 'number_outpatient',\n",
    "       'number_emergency', 'number_inpatient', 'diag_1', 'diag_2', 'diag_3',\n",
    "       'number_diagnoses', 'change', 'drug_up', 'drug_down',\n",
    "       'drug_steady', 'pat_cnt']"
   ]
  },
  {
   "cell_type": "code",
   "execution_count": 14,
   "metadata": {},
   "outputs": [],
   "source": [
    "# sns.boxplot(data=X)"
   ]
  },
  {
   "cell_type": "code",
   "execution_count": 15,
   "metadata": {},
   "outputs": [],
   "source": [
    "ss = StandardScaler()"
   ]
  },
  {
   "cell_type": "code",
   "execution_count": 16,
   "metadata": {},
   "outputs": [],
   "source": [
    "X = ss.fit_transform(X)"
   ]
  },
  {
   "cell_type": "code",
   "execution_count": 43,
   "metadata": {},
   "outputs": [],
   "source": [
    "x = combined_df_encoded.iloc[len(X):]\n",
    "x = ss.transform(x)\n",
    "x = x.astype('float32')"
   ]
  },
  {
   "cell_type": "code",
   "execution_count": 17,
   "metadata": {},
   "outputs": [
    {
     "data": {
      "text/plain": [
       "readmission_id\n",
       "2    38405\n",
       "1    24881\n",
       "0     7950\n",
       "Name: count, dtype: int64"
      ]
     },
     "execution_count": 17,
     "metadata": {},
     "output_type": "execute_result"
    }
   ],
   "source": [
    "y.value_counts()"
   ]
  },
  {
   "cell_type": "code",
   "execution_count": 18,
   "metadata": {},
   "outputs": [],
   "source": [
    "oss = OneSidedSelection(random_state=17)"
   ]
  },
  {
   "cell_type": "code",
   "execution_count": 19,
   "metadata": {},
   "outputs": [],
   "source": [
    "# X, y = oss.fit_resample(X, y)"
   ]
  },
  {
   "cell_type": "code",
   "execution_count": 20,
   "metadata": {},
   "outputs": [
    {
     "data": {
      "text/plain": [
       "readmission_id\n",
       "2    38405\n",
       "1    24881\n",
       "0     7950\n",
       "Name: count, dtype: int64"
      ]
     },
     "execution_count": 20,
     "metadata": {},
     "output_type": "execute_result"
    }
   ],
   "source": [
    "y.value_counts()"
   ]
  },
  {
   "cell_type": "code",
   "execution_count": 21,
   "metadata": {},
   "outputs": [],
   "source": [
    "# sns.boxplot(data=X)"
   ]
  },
  {
   "cell_type": "code",
   "execution_count": 22,
   "metadata": {},
   "outputs": [],
   "source": [
    "import torch.nn as nn\n",
    "import torch"
   ]
  },
  {
   "cell_type": "code",
   "execution_count": 23,
   "metadata": {},
   "outputs": [],
   "source": [
    "device = \"cuda\" if torch.cuda.is_available() else \"cpu\""
   ]
  },
  {
   "cell_type": "code",
   "execution_count": 24,
   "metadata": {},
   "outputs": [],
   "source": [
    "X = X.astype('float32')\n",
    "x = x.astype('float32')"
   ]
  },
  {
   "cell_type": "code",
   "execution_count": 25,
   "metadata": {},
   "outputs": [],
   "source": [
    "from sklearn.model_selection import train_test_split"
   ]
  },
  {
   "cell_type": "code",
   "execution_count": 26,
   "metadata": {},
   "outputs": [
    {
     "data": {
      "text/html": [
       "<div>\n",
       "<style scoped>\n",
       "    .dataframe tbody tr th:only-of-type {\n",
       "        vertical-align: middle;\n",
       "    }\n",
       "\n",
       "    .dataframe tbody tr th {\n",
       "        vertical-align: top;\n",
       "    }\n",
       "\n",
       "    .dataframe thead th {\n",
       "        text-align: right;\n",
       "    }\n",
       "</style>\n",
       "<table border=\"1\" class=\"dataframe\">\n",
       "  <thead>\n",
       "    <tr style=\"text-align: right;\">\n",
       "      <th></th>\n",
       "      <th>enc_id</th>\n",
       "      <th>patient_id</th>\n",
       "      <th>age</th>\n",
       "      <th>time_in_hospital</th>\n",
       "      <th>num_lab_procedures</th>\n",
       "      <th>num_procedures</th>\n",
       "      <th>num_medications</th>\n",
       "      <th>number_outpatient</th>\n",
       "      <th>number_emergency</th>\n",
       "      <th>number_inpatient</th>\n",
       "      <th>...</th>\n",
       "      <th>medical_specialty_61.0</th>\n",
       "      <th>medical_specialty_62.0</th>\n",
       "      <th>medical_specialty_63.0</th>\n",
       "      <th>medical_specialty_64.0</th>\n",
       "      <th>medical_specialty_65.0</th>\n",
       "      <th>medical_specialty_66.0</th>\n",
       "      <th>medical_specialty_67.0</th>\n",
       "      <th>medical_specialty_68.0</th>\n",
       "      <th>diabetesMed_0.0</th>\n",
       "      <th>diabetesMed_1.0</th>\n",
       "    </tr>\n",
       "  </thead>\n",
       "  <tbody>\n",
       "    <tr>\n",
       "      <th>0</th>\n",
       "      <td>-0.748025</td>\n",
       "      <td>-1.337702</td>\n",
       "      <td>-0.059131</td>\n",
       "      <td>-0.468019</td>\n",
       "      <td>0.553819</td>\n",
       "      <td>0.971800</td>\n",
       "      <td>-0.739963</td>\n",
       "      <td>-0.292225</td>\n",
       "      <td>-0.226472</td>\n",
       "      <td>-0.500562</td>\n",
       "      <td>...</td>\n",
       "      <td>-0.068531</td>\n",
       "      <td>-0.010598</td>\n",
       "      <td>-0.019472</td>\n",
       "      <td>-0.034154</td>\n",
       "      <td>-0.074099</td>\n",
       "      <td>-0.017971</td>\n",
       "      <td>-0.081146</td>\n",
       "      <td>-0.980867</td>\n",
       "      <td>-0.546010</td>\n",
       "      <td>0.546010</td>\n",
       "    </tr>\n",
       "    <tr>\n",
       "      <th>1</th>\n",
       "      <td>-0.712439</td>\n",
       "      <td>-0.053857</td>\n",
       "      <td>0.568249</td>\n",
       "      <td>0.874298</td>\n",
       "      <td>0.350347</td>\n",
       "      <td>2.730738</td>\n",
       "      <td>2.334786</td>\n",
       "      <td>1.282668</td>\n",
       "      <td>0.930179</td>\n",
       "      <td>-0.500562</td>\n",
       "      <td>...</td>\n",
       "      <td>-0.068531</td>\n",
       "      <td>-0.010598</td>\n",
       "      <td>-0.019472</td>\n",
       "      <td>-0.034154</td>\n",
       "      <td>-0.074099</td>\n",
       "      <td>-0.017971</td>\n",
       "      <td>-0.081146</td>\n",
       "      <td>1.019506</td>\n",
       "      <td>-0.546010</td>\n",
       "      <td>0.546010</td>\n",
       "    </tr>\n",
       "    <tr>\n",
       "      <th>2</th>\n",
       "      <td>0.041350</td>\n",
       "      <td>-0.343179</td>\n",
       "      <td>0.568249</td>\n",
       "      <td>0.874298</td>\n",
       "      <td>0.299479</td>\n",
       "      <td>1.558112</td>\n",
       "      <td>0.489936</td>\n",
       "      <td>1.282668</td>\n",
       "      <td>-0.226472</td>\n",
       "      <td>2.650836</td>\n",
       "      <td>...</td>\n",
       "      <td>-0.068531</td>\n",
       "      <td>-0.010598</td>\n",
       "      <td>-0.019472</td>\n",
       "      <td>-0.034154</td>\n",
       "      <td>-0.074099</td>\n",
       "      <td>-0.017971</td>\n",
       "      <td>-0.081146</td>\n",
       "      <td>1.019506</td>\n",
       "      <td>-0.546010</td>\n",
       "      <td>0.546010</td>\n",
       "    </tr>\n",
       "    <tr>\n",
       "      <th>3</th>\n",
       "      <td>1.049637</td>\n",
       "      <td>-0.397350</td>\n",
       "      <td>-0.686511</td>\n",
       "      <td>-1.139178</td>\n",
       "      <td>-2.142181</td>\n",
       "      <td>-0.200826</td>\n",
       "      <td>-0.125013</td>\n",
       "      <td>-0.292225</td>\n",
       "      <td>-0.226472</td>\n",
       "      <td>-0.500562</td>\n",
       "      <td>...</td>\n",
       "      <td>-0.068531</td>\n",
       "      <td>-0.010598</td>\n",
       "      <td>-0.019472</td>\n",
       "      <td>-0.034154</td>\n",
       "      <td>-0.074099</td>\n",
       "      <td>-0.017971</td>\n",
       "      <td>-0.081146</td>\n",
       "      <td>1.019506</td>\n",
       "      <td>-0.546010</td>\n",
       "      <td>0.546010</td>\n",
       "    </tr>\n",
       "    <tr>\n",
       "      <th>4</th>\n",
       "      <td>-0.141917</td>\n",
       "      <td>0.479004</td>\n",
       "      <td>1.195629</td>\n",
       "      <td>0.538719</td>\n",
       "      <td>0.757290</td>\n",
       "      <td>0.385487</td>\n",
       "      <td>1.227876</td>\n",
       "      <td>0.495221</td>\n",
       "      <td>-0.226472</td>\n",
       "      <td>-0.500562</td>\n",
       "      <td>...</td>\n",
       "      <td>-0.068531</td>\n",
       "      <td>-0.010598</td>\n",
       "      <td>-0.019472</td>\n",
       "      <td>-0.034154</td>\n",
       "      <td>-0.074099</td>\n",
       "      <td>-0.017971</td>\n",
       "      <td>-0.081146</td>\n",
       "      <td>1.019506</td>\n",
       "      <td>-0.546010</td>\n",
       "      <td>0.546010</td>\n",
       "    </tr>\n",
       "    <tr>\n",
       "      <th>...</th>\n",
       "      <td>...</td>\n",
       "      <td>...</td>\n",
       "      <td>...</td>\n",
       "      <td>...</td>\n",
       "      <td>...</td>\n",
       "      <td>...</td>\n",
       "      <td>...</td>\n",
       "      <td>...</td>\n",
       "      <td>...</td>\n",
       "      <td>...</td>\n",
       "      <td>...</td>\n",
       "      <td>...</td>\n",
       "      <td>...</td>\n",
       "      <td>...</td>\n",
       "      <td>...</td>\n",
       "      <td>...</td>\n",
       "      <td>...</td>\n",
       "      <td>...</td>\n",
       "      <td>...</td>\n",
       "      <td>...</td>\n",
       "      <td>...</td>\n",
       "    </tr>\n",
       "    <tr>\n",
       "      <th>71231</th>\n",
       "      <td>0.325591</td>\n",
       "      <td>0.797751</td>\n",
       "      <td>0.568249</td>\n",
       "      <td>0.538719</td>\n",
       "      <td>0.909894</td>\n",
       "      <td>-0.787139</td>\n",
       "      <td>-0.248003</td>\n",
       "      <td>-0.292225</td>\n",
       "      <td>-0.226472</td>\n",
       "      <td>-0.500562</td>\n",
       "      <td>...</td>\n",
       "      <td>-0.068531</td>\n",
       "      <td>-0.010598</td>\n",
       "      <td>-0.019472</td>\n",
       "      <td>-0.034154</td>\n",
       "      <td>-0.074099</td>\n",
       "      <td>-0.017971</td>\n",
       "      <td>-0.081146</td>\n",
       "      <td>1.019506</td>\n",
       "      <td>-0.546010</td>\n",
       "      <td>0.546010</td>\n",
       "    </tr>\n",
       "    <tr>\n",
       "      <th>71232</th>\n",
       "      <td>0.119041</td>\n",
       "      <td>0.828282</td>\n",
       "      <td>1.823009</td>\n",
       "      <td>0.203140</td>\n",
       "      <td>-0.361804</td>\n",
       "      <td>-0.787139</td>\n",
       "      <td>-0.493983</td>\n",
       "      <td>1.282668</td>\n",
       "      <td>-0.226472</td>\n",
       "      <td>-0.500562</td>\n",
       "      <td>...</td>\n",
       "      <td>-0.068531</td>\n",
       "      <td>-0.010598</td>\n",
       "      <td>-0.019472</td>\n",
       "      <td>-0.034154</td>\n",
       "      <td>-0.074099</td>\n",
       "      <td>-0.017971</td>\n",
       "      <td>-0.081146</td>\n",
       "      <td>1.019506</td>\n",
       "      <td>1.831469</td>\n",
       "      <td>-1.831469</td>\n",
       "    </tr>\n",
       "    <tr>\n",
       "      <th>71233</th>\n",
       "      <td>-1.112552</td>\n",
       "      <td>-1.269359</td>\n",
       "      <td>0.568249</td>\n",
       "      <td>0.538719</td>\n",
       "      <td>0.960762</td>\n",
       "      <td>2.730738</td>\n",
       "      <td>1.473856</td>\n",
       "      <td>-0.292225</td>\n",
       "      <td>-0.226472</td>\n",
       "      <td>-0.500562</td>\n",
       "      <td>...</td>\n",
       "      <td>-0.068531</td>\n",
       "      <td>-0.010598</td>\n",
       "      <td>-0.019472</td>\n",
       "      <td>-0.034154</td>\n",
       "      <td>-0.074099</td>\n",
       "      <td>-0.017971</td>\n",
       "      <td>-0.081146</td>\n",
       "      <td>-0.980867</td>\n",
       "      <td>-0.546010</td>\n",
       "      <td>0.546010</td>\n",
       "    </tr>\n",
       "    <tr>\n",
       "      <th>71234</th>\n",
       "      <td>0.499012</td>\n",
       "      <td>0.821163</td>\n",
       "      <td>-0.686511</td>\n",
       "      <td>-0.132440</td>\n",
       "      <td>-0.717879</td>\n",
       "      <td>-0.200826</td>\n",
       "      <td>-0.616973</td>\n",
       "      <td>-0.292225</td>\n",
       "      <td>-0.226472</td>\n",
       "      <td>-0.500562</td>\n",
       "      <td>...</td>\n",
       "      <td>-0.068531</td>\n",
       "      <td>-0.010598</td>\n",
       "      <td>-0.019472</td>\n",
       "      <td>-0.034154</td>\n",
       "      <td>-0.074099</td>\n",
       "      <td>-0.017971</td>\n",
       "      <td>-0.081146</td>\n",
       "      <td>-0.980867</td>\n",
       "      <td>-0.546010</td>\n",
       "      <td>0.546010</td>\n",
       "    </tr>\n",
       "    <tr>\n",
       "      <th>71235</th>\n",
       "      <td>-1.293429</td>\n",
       "      <td>1.500532</td>\n",
       "      <td>1.195629</td>\n",
       "      <td>0.874298</td>\n",
       "      <td>-0.412672</td>\n",
       "      <td>0.385487</td>\n",
       "      <td>2.580766</td>\n",
       "      <td>-0.292225</td>\n",
       "      <td>2.086829</td>\n",
       "      <td>-0.500562</td>\n",
       "      <td>...</td>\n",
       "      <td>-0.068531</td>\n",
       "      <td>-0.010598</td>\n",
       "      <td>-0.019472</td>\n",
       "      <td>-0.034154</td>\n",
       "      <td>-0.074099</td>\n",
       "      <td>-0.017971</td>\n",
       "      <td>-0.081146</td>\n",
       "      <td>1.019506</td>\n",
       "      <td>-0.546010</td>\n",
       "      <td>0.546010</td>\n",
       "    </tr>\n",
       "  </tbody>\n",
       "</table>\n",
       "<p>71236 rows × 167 columns</p>\n",
       "</div>"
      ],
      "text/plain": [
       "         enc_id  patient_id       age  time_in_hospital  num_lab_procedures  \\\n",
       "0     -0.748025   -1.337702 -0.059131         -0.468019            0.553819   \n",
       "1     -0.712439   -0.053857  0.568249          0.874298            0.350347   \n",
       "2      0.041350   -0.343179  0.568249          0.874298            0.299479   \n",
       "3      1.049637   -0.397350 -0.686511         -1.139178           -2.142181   \n",
       "4     -0.141917    0.479004  1.195629          0.538719            0.757290   \n",
       "...         ...         ...       ...               ...                 ...   \n",
       "71231  0.325591    0.797751  0.568249          0.538719            0.909894   \n",
       "71232  0.119041    0.828282  1.823009          0.203140           -0.361804   \n",
       "71233 -1.112552   -1.269359  0.568249          0.538719            0.960762   \n",
       "71234  0.499012    0.821163 -0.686511         -0.132440           -0.717879   \n",
       "71235 -1.293429    1.500532  1.195629          0.874298           -0.412672   \n",
       "\n",
       "       num_procedures  num_medications  number_outpatient  number_emergency  \\\n",
       "0            0.971800        -0.739963          -0.292225         -0.226472   \n",
       "1            2.730738         2.334786           1.282668          0.930179   \n",
       "2            1.558112         0.489936           1.282668         -0.226472   \n",
       "3           -0.200826        -0.125013          -0.292225         -0.226472   \n",
       "4            0.385487         1.227876           0.495221         -0.226472   \n",
       "...               ...              ...                ...               ...   \n",
       "71231       -0.787139        -0.248003          -0.292225         -0.226472   \n",
       "71232       -0.787139        -0.493983           1.282668         -0.226472   \n",
       "71233        2.730738         1.473856          -0.292225         -0.226472   \n",
       "71234       -0.200826        -0.616973          -0.292225         -0.226472   \n",
       "71235        0.385487         2.580766          -0.292225          2.086829   \n",
       "\n",
       "       number_inpatient  ...  medical_specialty_61.0  medical_specialty_62.0  \\\n",
       "0             -0.500562  ...               -0.068531               -0.010598   \n",
       "1             -0.500562  ...               -0.068531               -0.010598   \n",
       "2              2.650836  ...               -0.068531               -0.010598   \n",
       "3             -0.500562  ...               -0.068531               -0.010598   \n",
       "4             -0.500562  ...               -0.068531               -0.010598   \n",
       "...                 ...  ...                     ...                     ...   \n",
       "71231         -0.500562  ...               -0.068531               -0.010598   \n",
       "71232         -0.500562  ...               -0.068531               -0.010598   \n",
       "71233         -0.500562  ...               -0.068531               -0.010598   \n",
       "71234         -0.500562  ...               -0.068531               -0.010598   \n",
       "71235         -0.500562  ...               -0.068531               -0.010598   \n",
       "\n",
       "       medical_specialty_63.0  medical_specialty_64.0  medical_specialty_65.0  \\\n",
       "0                   -0.019472               -0.034154               -0.074099   \n",
       "1                   -0.019472               -0.034154               -0.074099   \n",
       "2                   -0.019472               -0.034154               -0.074099   \n",
       "3                   -0.019472               -0.034154               -0.074099   \n",
       "4                   -0.019472               -0.034154               -0.074099   \n",
       "...                       ...                     ...                     ...   \n",
       "71231               -0.019472               -0.034154               -0.074099   \n",
       "71232               -0.019472               -0.034154               -0.074099   \n",
       "71233               -0.019472               -0.034154               -0.074099   \n",
       "71234               -0.019472               -0.034154               -0.074099   \n",
       "71235               -0.019472               -0.034154               -0.074099   \n",
       "\n",
       "       medical_specialty_66.0  medical_specialty_67.0  medical_specialty_68.0  \\\n",
       "0                   -0.017971               -0.081146               -0.980867   \n",
       "1                   -0.017971               -0.081146                1.019506   \n",
       "2                   -0.017971               -0.081146                1.019506   \n",
       "3                   -0.017971               -0.081146                1.019506   \n",
       "4                   -0.017971               -0.081146                1.019506   \n",
       "...                       ...                     ...                     ...   \n",
       "71231               -0.017971               -0.081146                1.019506   \n",
       "71232               -0.017971               -0.081146                1.019506   \n",
       "71233               -0.017971               -0.081146               -0.980867   \n",
       "71234               -0.017971               -0.081146               -0.980867   \n",
       "71235               -0.017971               -0.081146                1.019506   \n",
       "\n",
       "       diabetesMed_0.0  diabetesMed_1.0  \n",
       "0            -0.546010         0.546010  \n",
       "1            -0.546010         0.546010  \n",
       "2            -0.546010         0.546010  \n",
       "3            -0.546010         0.546010  \n",
       "4            -0.546010         0.546010  \n",
       "...                ...              ...  \n",
       "71231        -0.546010         0.546010  \n",
       "71232         1.831469        -1.831469  \n",
       "71233        -0.546010         0.546010  \n",
       "71234        -0.546010         0.546010  \n",
       "71235        -0.546010         0.546010  \n",
       "\n",
       "[71236 rows x 167 columns]"
      ]
     },
     "execution_count": 26,
     "metadata": {},
     "output_type": "execute_result"
    }
   ],
   "source": [
    "X"
   ]
  },
  {
   "cell_type": "code",
   "execution_count": 27,
   "metadata": {},
   "outputs": [],
   "source": [
    "x_train, x_val, y_train, y_val = train_test_split(X, y, random_state=42,stratify=y)"
   ]
  },
  {
   "cell_type": "code",
   "execution_count": 28,
   "metadata": {},
   "outputs": [],
   "source": [
    "class Data(Dataset):\n",
    "    def __init__(self, x, y):\n",
    "        self.x=torch.from_numpy(x)\n",
    "        self.y=torch.from_numpy(y)\n",
    "        self.len=self.x.shape[0]\n",
    "    def __getitem__(self,index):      \n",
    "        return self.x[index], self.y[index]\n",
    "    def __len__(self):\n",
    "        return self.len"
   ]
  },
  {
   "cell_type": "code",
   "execution_count": 29,
   "metadata": {},
   "outputs": [],
   "source": [
    "train_dataset = Data(x_train.to_numpy(), y_train.to_numpy())\n",
    "test_dataset = Data(x_val.to_numpy(), y_val.to_numpy())"
   ]
  },
  {
   "cell_type": "code",
   "execution_count": 30,
   "metadata": {},
   "outputs": [],
   "source": [
    "train_dataloader = DataLoader(train_dataset,batch_size=64)\n",
    "test_dataloader = DataLoader(test_dataset,batch_size=64)"
   ]
  },
  {
   "cell_type": "code",
   "execution_count": 31,
   "metadata": {},
   "outputs": [],
   "source": [
    "class ANN(nn.Module):\n",
    "    def __init__(\n",
    "        self,\n",
    "        in_dim: int,\n",
    "        hidden_dim_1: int,\n",
    "        hidden_dim_2: int,\n",
    "        n_classes:int = 3,\n",
    "        dropout:float = 0.2\n",
    "    ):\n",
    "        super().__init__()\n",
    "        \n",
    "        self.layer1 = nn.Sequential(\n",
    "            nn.Linear(in_features=in_dim, out_features=hidden_dim_1),\n",
    "            nn.ReLU(),\n",
    "            nn.BatchNorm1d(hidden_dim_1),\n",
    "            nn.Dropout(dropout),\n",
    "        )\n",
    "        self.layer2 = nn.Sequential(\n",
    "            nn.Linear(in_features=hidden_dim_1, out_features=hidden_dim_2),\n",
    "            nn.ReLU(),\n",
    "            nn.BatchNorm1d(hidden_dim_2),\n",
    "            nn.Dropout(dropout),\n",
    "        )\n",
    "        self.output_layer = nn.Linear(in_features=hidden_dim_2, out_features=n_classes)\n",
    "        \n",
    "    def forward(self, x: torch.Tensor) -> torch.Tensor:\n",
    "        x = self.layer1(x)\n",
    "        x = self.layer2(x)\n",
    "        x = self.output_layer(x)\n",
    "        return x"
   ]
  },
  {
   "cell_type": "code",
   "execution_count": 32,
   "metadata": {},
   "outputs": [],
   "source": [
    "model = ANN(167,100,20).to(device)"
   ]
  },
  {
   "cell_type": "code",
   "execution_count": 33,
   "metadata": {},
   "outputs": [],
   "source": [
    "n_epochs = 25\n",
    "lr = 1e-4\n",
    "optimiser = torch.optim.Adam(model.parameters(), lr=lr)\n",
    "loss_fn = torch.nn.CrossEntropyLoss()"
   ]
  },
  {
   "cell_type": "code",
   "execution_count": 34,
   "metadata": {},
   "outputs": [],
   "source": [
    "import matplotlib.pyplot as plt\n",
    "losses = []\n",
    "accuracies = []\n",
    "f1s = []\n",
    "def train_epoch(model, dataloader, optimiser):\n",
    "    model.train()\n",
    "    loss_sum = 0\n",
    "    for batch in tqdm(dataloader):\n",
    "        x, y = batch[0].to(device), batch[1].to(device)\n",
    "        output = model(x)\n",
    "        output = nn.Softmax(dim=-1)(output)\n",
    "        loss = loss_fn(output, y)\n",
    "        loss_sum += loss.item()  \n",
    "\n",
    "        optimiser.zero_grad()\n",
    "        loss.backward()\n",
    "        optimiser.step()\n",
    "    loss_sum /= len(dataloader)\n",
    "    losses.append(loss_sum)\n",
    "        \n",
    "        \n",
    "def validate(model):\n",
    "    model.eval()\n",
    "    output = model(torch.from_numpy(x_val.to_numpy()).to(device))\n",
    "    output = nn.Softmax(dim=-1)(output)\n",
    "    preds = torch.argmax(output,dim=-1)\n",
    "            \n",
    "        \n",
    "    acc = accuracy_score(y_true=y_val.to_numpy(), y_pred=preds.cpu())\n",
    "    accuracies.append(acc)\n",
    "    f1 = f1_score(y_true=y_val.to_numpy(), y_pred=preds.cpu(), average='macro')\n",
    "    f1s.append(f1)\n",
    "    \n",
    "    return acc, f1"
   ]
  },
  {
   "cell_type": "code",
   "execution_count": 35,
   "metadata": {},
   "outputs": [],
   "source": [
    "def train_model(model, train_dataloader, test_dataloader, optimiser):\n",
    "    for epoch in range(1, n_epochs+1):\n",
    "        start_time = time.time()\n",
    "        \n",
    "        print(f\"========= EPOCH {epoch} STARTED =========\")\n",
    "        train_epoch(model=model, dataloader=train_dataloader, optimiser=optimiser)\n",
    "        \n",
    "        print(f\"========= TEST EVALUATION STARTED =========\")\n",
    "        test_val_op = validate(model=model)\n",
    "        \n",
    "        print(f\"END OF {epoch} EPOCH\")\n",
    "        print(f\"| Time taken: {time.time() - start_time: 7.3f} |\")\n",
    "        print(f\"| Test acc: {test_val_op[0]: 1.5f}  | Test f1: {test_val_op[1]: 1.5f}  |\")"
   ]
  },
  {
   "cell_type": "code",
   "execution_count": 36,
   "metadata": {},
   "outputs": [
    {
     "name": "stdout",
     "output_type": "stream",
     "text": [
      "========= EPOCH 1 STARTED =========\n"
     ]
    },
    {
     "name": "stderr",
     "output_type": "stream",
     "text": [
      "100%|██████████| 835/835 [00:07<00:00, 105.42it/s]\n"
     ]
    },
    {
     "name": "stdout",
     "output_type": "stream",
     "text": [
      "========= TEST EVALUATION STARTED =========\n",
      "END OF 1 EPOCH\n",
      "| Time taken:   7.957 |\n",
      "| Test acc:  0.60520  | Test f1:  0.44578  |\n",
      "========= EPOCH 2 STARTED =========\n"
     ]
    },
    {
     "name": "stderr",
     "output_type": "stream",
     "text": [
      "100%|██████████| 835/835 [00:03<00:00, 217.92it/s]\n"
     ]
    },
    {
     "name": "stdout",
     "output_type": "stream",
     "text": [
      "========= TEST EVALUATION STARTED =========\n",
      "END OF 2 EPOCH\n",
      "| Time taken:   3.863 |\n",
      "| Test acc:  0.65495  | Test f1:  0.45202  |\n",
      "========= EPOCH 3 STARTED =========\n"
     ]
    },
    {
     "name": "stderr",
     "output_type": "stream",
     "text": [
      "100%|██████████| 835/835 [00:03<00:00, 219.52it/s]\n"
     ]
    },
    {
     "name": "stdout",
     "output_type": "stream",
     "text": [
      "========= TEST EVALUATION STARTED =========\n",
      "END OF 3 EPOCH\n",
      "| Time taken:   3.836 |\n",
      "| Test acc:  0.67090  | Test f1:  0.46021  |\n",
      "========= EPOCH 4 STARTED =========\n"
     ]
    },
    {
     "name": "stderr",
     "output_type": "stream",
     "text": [
      "100%|██████████| 835/835 [00:03<00:00, 214.83it/s]\n"
     ]
    },
    {
     "name": "stdout",
     "output_type": "stream",
     "text": [
      "========= TEST EVALUATION STARTED =========\n",
      "END OF 4 EPOCH\n",
      "| Time taken:   3.918 |\n",
      "| Test acc:  0.68112  | Test f1:  0.46576  |\n",
      "========= EPOCH 5 STARTED =========\n"
     ]
    },
    {
     "name": "stderr",
     "output_type": "stream",
     "text": [
      "100%|██████████| 835/835 [00:03<00:00, 212.65it/s]\n"
     ]
    },
    {
     "name": "stdout",
     "output_type": "stream",
     "text": [
      "========= TEST EVALUATION STARTED =========\n",
      "END OF 5 EPOCH\n",
      "| Time taken:   3.957 |\n",
      "| Test acc:  0.68628  | Test f1:  0.47122  |\n",
      "========= EPOCH 6 STARTED =========\n"
     ]
    },
    {
     "name": "stderr",
     "output_type": "stream",
     "text": [
      "100%|██████████| 835/835 [00:03<00:00, 212.62it/s]\n"
     ]
    },
    {
     "name": "stdout",
     "output_type": "stream",
     "text": [
      "========= TEST EVALUATION STARTED =========\n",
      "END OF 6 EPOCH\n",
      "| Time taken:   3.958 |\n",
      "| Test acc:  0.69285  | Test f1:  0.47852  |\n",
      "========= EPOCH 7 STARTED =========\n"
     ]
    },
    {
     "name": "stderr",
     "output_type": "stream",
     "text": [
      "100%|██████████| 835/835 [00:03<00:00, 216.60it/s]\n"
     ]
    },
    {
     "name": "stdout",
     "output_type": "stream",
     "text": [
      "========= TEST EVALUATION STARTED =========\n",
      "END OF 7 EPOCH\n",
      "| Time taken:   3.886 |\n",
      "| Test acc:  0.69734  | Test f1:  0.48189  |\n",
      "========= EPOCH 8 STARTED =========\n"
     ]
    },
    {
     "name": "stderr",
     "output_type": "stream",
     "text": [
      "100%|██████████| 835/835 [00:03<00:00, 219.08it/s]\n"
     ]
    },
    {
     "name": "stdout",
     "output_type": "stream",
     "text": [
      "========= TEST EVALUATION STARTED =========\n",
      "END OF 8 EPOCH\n",
      "| Time taken:   3.842 |\n",
      "| Test acc:  0.70279  | Test f1:  0.48772  |\n",
      "========= EPOCH 9 STARTED =========\n"
     ]
    },
    {
     "name": "stderr",
     "output_type": "stream",
     "text": [
      "100%|██████████| 835/835 [00:03<00:00, 209.00it/s]\n"
     ]
    },
    {
     "name": "stdout",
     "output_type": "stream",
     "text": [
      "========= TEST EVALUATION STARTED =========\n",
      "END OF 9 EPOCH\n",
      "| Time taken:   4.026 |\n",
      "| Test acc:  0.70532  | Test f1:  0.48877  |\n",
      "========= EPOCH 10 STARTED =========\n"
     ]
    },
    {
     "name": "stderr",
     "output_type": "stream",
     "text": [
      "100%|██████████| 835/835 [00:03<00:00, 218.59it/s]\n"
     ]
    },
    {
     "name": "stdout",
     "output_type": "stream",
     "text": [
      "========= TEST EVALUATION STARTED =========\n",
      "END OF 10 EPOCH\n",
      "| Time taken:   3.850 |\n",
      "| Test acc:  0.70644  | Test f1:  0.48971  |\n",
      "========= EPOCH 11 STARTED =========\n"
     ]
    },
    {
     "name": "stderr",
     "output_type": "stream",
     "text": [
      "100%|██████████| 835/835 [00:03<00:00, 218.96it/s]\n"
     ]
    },
    {
     "name": "stdout",
     "output_type": "stream",
     "text": [
      "========= TEST EVALUATION STARTED =========\n",
      "END OF 11 EPOCH\n",
      "| Time taken:   3.845 |\n",
      "| Test acc:  0.70745  | Test f1:  0.49313  |\n",
      "========= EPOCH 12 STARTED =========\n"
     ]
    },
    {
     "name": "stderr",
     "output_type": "stream",
     "text": [
      "100%|██████████| 835/835 [00:04<00:00, 187.68it/s]\n"
     ]
    },
    {
     "name": "stdout",
     "output_type": "stream",
     "text": [
      "========= TEST EVALUATION STARTED =========\n",
      "END OF 12 EPOCH\n",
      "| Time taken:   4.479 |\n",
      "| Test acc:  0.70925  | Test f1:  0.49311  |\n",
      "========= EPOCH 13 STARTED =========\n"
     ]
    },
    {
     "name": "stderr",
     "output_type": "stream",
     "text": [
      "100%|██████████| 835/835 [00:03<00:00, 213.92it/s]\n"
     ]
    },
    {
     "name": "stdout",
     "output_type": "stream",
     "text": [
      "========= TEST EVALUATION STARTED =========\n",
      "END OF 13 EPOCH\n",
      "| Time taken:   3.934 |\n",
      "| Test acc:  0.71104  | Test f1:  0.49597  |\n",
      "========= EPOCH 14 STARTED =========\n"
     ]
    },
    {
     "name": "stderr",
     "output_type": "stream",
     "text": [
      "100%|██████████| 835/835 [00:03<00:00, 221.80it/s]\n"
     ]
    },
    {
     "name": "stdout",
     "output_type": "stream",
     "text": [
      "========= TEST EVALUATION STARTED =========\n",
      "END OF 14 EPOCH\n",
      "| Time taken:   3.796 |\n",
      "| Test acc:  0.71133  | Test f1:  0.49540  |\n",
      "========= EPOCH 15 STARTED =========\n"
     ]
    },
    {
     "name": "stderr",
     "output_type": "stream",
     "text": [
      "100%|██████████| 835/835 [00:03<00:00, 217.99it/s]\n"
     ]
    },
    {
     "name": "stdout",
     "output_type": "stream",
     "text": [
      "========= TEST EVALUATION STARTED =========\n",
      "END OF 15 EPOCH\n",
      "| Time taken:   3.861 |\n",
      "| Test acc:  0.71267  | Test f1:  0.49844  |\n",
      "========= EPOCH 16 STARTED =========\n"
     ]
    },
    {
     "name": "stderr",
     "output_type": "stream",
     "text": [
      "100%|██████████| 835/835 [00:03<00:00, 217.05it/s]\n"
     ]
    },
    {
     "name": "stdout",
     "output_type": "stream",
     "text": [
      "========= TEST EVALUATION STARTED =========\n",
      "END OF 16 EPOCH\n",
      "| Time taken:   3.878 |\n",
      "| Test acc:  0.71352  | Test f1:  0.49903  |\n",
      "========= EPOCH 17 STARTED =========\n"
     ]
    },
    {
     "name": "stderr",
     "output_type": "stream",
     "text": [
      "100%|██████████| 835/835 [00:04<00:00, 207.70it/s]\n"
     ]
    },
    {
     "name": "stdout",
     "output_type": "stream",
     "text": [
      "========= TEST EVALUATION STARTED =========\n",
      "END OF 17 EPOCH\n",
      "| Time taken:   4.058 |\n",
      "| Test acc:  0.71413  | Test f1:  0.50020  |\n",
      "========= EPOCH 18 STARTED =========\n"
     ]
    },
    {
     "name": "stderr",
     "output_type": "stream",
     "text": [
      "100%|██████████| 835/835 [00:04<00:00, 195.95it/s]\n"
     ]
    },
    {
     "name": "stdout",
     "output_type": "stream",
     "text": [
      "========= TEST EVALUATION STARTED =========\n",
      "END OF 18 EPOCH\n",
      "| Time taken:   4.293 |\n",
      "| Test acc:  0.71447  | Test f1:  0.50348  |\n",
      "========= EPOCH 19 STARTED =========\n"
     ]
    },
    {
     "name": "stderr",
     "output_type": "stream",
     "text": [
      "100%|██████████| 835/835 [00:04<00:00, 205.07it/s]\n"
     ]
    },
    {
     "name": "stdout",
     "output_type": "stream",
     "text": [
      "========= TEST EVALUATION STARTED =========\n",
      "END OF 19 EPOCH\n",
      "| Time taken:   4.103 |\n",
      "| Test acc:  0.71498  | Test f1:  0.50491  |\n",
      "========= EPOCH 20 STARTED =========\n"
     ]
    },
    {
     "name": "stderr",
     "output_type": "stream",
     "text": [
      "100%|██████████| 835/835 [00:03<00:00, 212.24it/s]\n"
     ]
    },
    {
     "name": "stdout",
     "output_type": "stream",
     "text": [
      "========= TEST EVALUATION STARTED =========\n",
      "END OF 20 EPOCH\n",
      "| Time taken:   3.965 |\n",
      "| Test acc:  0.71599  | Test f1:  0.50779  |\n",
      "========= EPOCH 21 STARTED =========\n"
     ]
    },
    {
     "name": "stderr",
     "output_type": "stream",
     "text": [
      "100%|██████████| 835/835 [00:03<00:00, 217.37it/s]\n"
     ]
    },
    {
     "name": "stdout",
     "output_type": "stream",
     "text": [
      "========= TEST EVALUATION STARTED =========\n",
      "END OF 21 EPOCH\n",
      "| Time taken:   3.871 |\n",
      "| Test acc:  0.71576  | Test f1:  0.50553  |\n",
      "========= EPOCH 22 STARTED =========\n"
     ]
    },
    {
     "name": "stderr",
     "output_type": "stream",
     "text": [
      "100%|██████████| 835/835 [00:03<00:00, 219.35it/s]\n"
     ]
    },
    {
     "name": "stdout",
     "output_type": "stream",
     "text": [
      "========= TEST EVALUATION STARTED =========\n",
      "END OF 22 EPOCH\n",
      "| Time taken:   3.837 |\n",
      "| Test acc:  0.71621  | Test f1:  0.50796  |\n",
      "========= EPOCH 23 STARTED =========\n"
     ]
    },
    {
     "name": "stderr",
     "output_type": "stream",
     "text": [
      "100%|██████████| 835/835 [00:03<00:00, 218.18it/s]\n"
     ]
    },
    {
     "name": "stdout",
     "output_type": "stream",
     "text": [
      "========= TEST EVALUATION STARTED =========\n",
      "END OF 23 EPOCH\n",
      "| Time taken:   3.857 |\n",
      "| Test acc:  0.71582  | Test f1:  0.50768  |\n",
      "========= EPOCH 24 STARTED =========\n"
     ]
    },
    {
     "name": "stderr",
     "output_type": "stream",
     "text": [
      "100%|██████████| 835/835 [00:03<00:00, 218.69it/s]\n"
     ]
    },
    {
     "name": "stdout",
     "output_type": "stream",
     "text": [
      "========= TEST EVALUATION STARTED =========\n",
      "END OF 24 EPOCH\n",
      "| Time taken:   3.849 |\n",
      "| Test acc:  0.71728  | Test f1:  0.50726  |\n",
      "========= EPOCH 25 STARTED =========\n"
     ]
    },
    {
     "name": "stderr",
     "output_type": "stream",
     "text": [
      "100%|██████████| 835/835 [00:03<00:00, 215.14it/s]\n",
      "c:\\programming\\ml\\ml-assignment-1\\.conda\\Lib\\site-packages\\seaborn\\_oldcore.py:1119: FutureWarning: use_inf_as_na option is deprecated and will be removed in a future version. Convert inf values to NaN before operating instead.\n",
      "  with pd.option_context('mode.use_inf_as_na', True):\n",
      "c:\\programming\\ml\\ml-assignment-1\\.conda\\Lib\\site-packages\\seaborn\\_oldcore.py:1119: FutureWarning: use_inf_as_na option is deprecated and will be removed in a future version. Convert inf values to NaN before operating instead.\n",
      "  with pd.option_context('mode.use_inf_as_na', True):\n"
     ]
    },
    {
     "name": "stdout",
     "output_type": "stream",
     "text": [
      "========= TEST EVALUATION STARTED =========\n",
      "END OF 25 EPOCH\n",
      "| Time taken:   3.912 |\n",
      "| Test acc:  0.71773  | Test f1:  0.50693  |\n"
     ]
    },
    {
     "data": {
      "image/png": "[encoded data removed]",
      "text/plain": [
       "<Figure size 640x480 with 1 Axes>"
      ]
     },
     "metadata": {},
     "output_type": "display_data"
    },
    {
     "name": "stderr",
     "output_type": "stream",
     "text": [
      "c:\\programming\\ml\\ml-assignment-1\\.conda\\Lib\\site-packages\\seaborn\\_oldcore.py:1119: FutureWarning: use_inf_as_na option is deprecated and will be removed in a future version. Convert inf values to NaN before operating instead.\n",
      "  with pd.option_context('mode.use_inf_as_na', True):\n",
      "c:\\programming\\ml\\ml-assignment-1\\.conda\\Lib\\site-packages\\seaborn\\_oldcore.py:1119: FutureWarning: use_inf_as_na option is deprecated and will be removed in a future version. Convert inf values to NaN before operating instead.\n",
      "  with pd.option_context('mode.use_inf_as_na', True):\n"
     ]
    },
    {
     "data": {
      "image/png": "[encoded data removed]",
      "text/plain": [
       "<Figure size 640x480 with 1 Axes>"
      ]
     },
     "metadata": {},
     "output_type": "display_data"
    },
    {
     "name": "stderr",
     "output_type": "stream",
     "text": [
      "c:\\programming\\ml\\ml-assignment-1\\.conda\\Lib\\site-packages\\seaborn\\_oldcore.py:1119: FutureWarning: use_inf_as_na option is deprecated and will be removed in a future version. Convert inf values to NaN before operating instead.\n",
      "  with pd.option_context('mode.use_inf_as_na', True):\n",
      "c:\\programming\\ml\\ml-assignment-1\\.conda\\Lib\\site-packages\\seaborn\\_oldcore.py:1119: FutureWarning: use_inf_as_na option is deprecated and will be removed in a future version. Convert inf values to NaN before operating instead.\n",
      "  with pd.option_context('mode.use_inf_as_na', True):\n"
     ]
    },
    {
     "data": {
      "image/png": "[encoded data removed]",
      "text/plain": [
       "<Figure size 640x480 with 1 Axes>"
      ]
     },
     "metadata": {},
     "output_type": "display_data"
    }
   ],
   "source": [
    "train_model(\n",
    "    model=model,\n",
    "    train_dataloader=train_dataloader,\n",
    "    test_dataloader=test_dataloader,\n",
    "    optimiser=optimiser,\n",
    ")\n",
    "sns.lineplot(x=range(len(losses)), y=losses)\n",
    "plt.show()\n",
    "sns.lineplot(x=range(len(accuracies)), y=accuracies)\n",
    "plt.show()\n",
    "sns.lineplot(x=range(len(f1s)), y=f1s)\n",
    "plt.show()"
   ]
  },
  {
   "cell_type": "code",
   "execution_count": 44,
   "metadata": {},
   "outputs": [],
   "source": [
    "output = model(torch.from_numpy(x.to_numpy()).to(device))\n",
    "output = nn.Softmax(dim=-1)(output)\n",
    "preds = torch.argmax(output,dim=-1)"
   ]
  },
  {
   "cell_type": "code",
   "execution_count": 45,
   "metadata": {},
   "outputs": [
    {
     "data": {
      "text/plain": [
       "tensor([  132, 11018, 19380], device='cuda:0')"
      ]
     },
     "execution_count": 45,
     "metadata": {},
     "output_type": "execute_result"
    }
   ],
   "source": [
    "preds.bincount()"
   ]
  },
  {
   "cell_type": "code",
   "execution_count": 46,
   "metadata": {},
   "outputs": [],
   "source": [
    "submission = pd.DataFrame({\"enc_id\":enc_ids, \"readmission_id\": preds.cpu().numpy()})"
   ]
  },
  {
   "cell_type": "code",
   "execution_count": 47,
   "metadata": {},
   "outputs": [],
   "source": [
    "submission.to_csv(\"./nn_3.csv\", index=False)"
   ]
  },
  {
   "cell_type": "code",
   "execution_count": null,
   "metadata": {},
   "outputs": [],
   "source": []
  }
 ],
 "metadata": {
  "kernelspec": {
   "display_name": "Python 3",
   "language": "python",
   "name": "python3"
  },
  "language_info": {
   "codemirror_mode": {
    "name": "ipython",
    "version": 3
   },
   "file_extension": ".py",
   "mimetype": "text/x-python",
   "name": "python",
   "nbconvert_exporter": "python",
   "pygments_lexer": "ipython3",
   "version": "3.11.5"
  }
 },
 "nbformat": 4,
 "nbformat_minor": 2
}
